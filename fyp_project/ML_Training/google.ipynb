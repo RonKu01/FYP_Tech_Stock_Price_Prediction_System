{
 "cells": [
  {
   "attachments": {},
   "cell_type": "markdown",
   "metadata": {},
   "source": [
    "# Importing Libraries"
   ]
  },
  {
   "cell_type": "code",
   "execution_count": 1,
   "metadata": {},
   "outputs": [],
   "source": [
    "import pandas as pd\n",
    "import numpy as np\n",
    "import seaborn as sns\n",
    "import matplotlib.pyplot as plt\n",
    "import yfinance as yf\n",
    "import ta\n",
    "from tabulate import tabulate\n",
    "from datetime import date\n",
    "\n",
    "from sklearn.model_selection import train_test_split, cross_val_score, GridSearchCV\n",
    "from sklearn.metrics import mean_absolute_error, mean_squared_error, r2_score\n",
    "from sklearn.preprocessing import MinMaxScaler\n",
    "from sklearn.ensemble import RandomForestRegressor\n",
    "from sklearn.svm import SVR"
   ]
  },
  {
   "attachments": {},
   "cell_type": "markdown",
   "metadata": {},
   "source": [
    "# Data Preparation and Feature Engineering"
   ]
  },
  {
   "attachments": {},
   "cell_type": "markdown",
   "metadata": {},
   "source": [
    "## Data Collection"
   ]
  },
  {
   "cell_type": "code",
   "execution_count": 2,
   "metadata": {},
   "outputs": [],
   "source": [
    "# Download historical price data from Yahoo Finance and store it in a pandas DataFrame\n",
    "df = yf.download(\"GOOGL\", start='2020-01-01', end=date.today(), progress=False)"
   ]
  },
  {
   "attachments": {},
   "cell_type": "markdown",
   "metadata": {},
   "source": [
    "## Adding Technical Indicators"
   ]
  },
  {
   "cell_type": "code",
   "execution_count": 3,
   "metadata": {},
   "outputs": [],
   "source": [
    "# Add technical indicators\n",
    "df['SMA_10'] = ta.trend.SMAIndicator(df['Close'], window=10).sma_indicator()\n",
    "df['EMA_10'] = ta.trend.EMAIndicator(df['Close'], window=10).ema_indicator()\n",
    "df['RSI'] = ta.momentum.RSIIndicator(df['Close'], window=10).rsi()\n",
    "macd = ta.trend.MACD(df['Close'], window_slow=26, window_fast=12, window_sign=9)\n",
    "df['MACD'] = macd.macd()\n",
    "df['MACD_Signal'] = macd.macd_signal()"
   ]
  },
  {
   "attachments": {},
   "cell_type": "markdown",
   "metadata": {},
   "source": [
    "## Adding Lag Features"
   ]
  },
  {
   "cell_type": "code",
   "execution_count": 4,
   "metadata": {},
   "outputs": [],
   "source": [
    "# Add lag features, remove missing values, and scale the features\n",
    "lag_periods = 10  # Number of lag periods for the lag features\n",
    "for i in range(1, lag_periods + 1):\n",
    "    df[f'lag_{i}'] = df['Close'].shift(i).values.copy()"
   ]
  },
  {
   "attachments": {},
   "cell_type": "markdown",
   "metadata": {},
   "source": [
    "## Removing Missing Values"
   ]
  },
  {
   "cell_type": "code",
   "execution_count": 5,
   "metadata": {},
   "outputs": [],
   "source": [
    "df.dropna(inplace=True)"
   ]
  },
  {
   "attachments": {},
   "cell_type": "markdown",
   "metadata": {},
   "source": [
    "# Model Training and Evaluation"
   ]
  },
  {
   "cell_type": "code",
   "execution_count": 6,
   "metadata": {},
   "outputs": [],
   "source": [
    "# Define independent variables (features) and target variable\n",
    "X = df.drop(['Close', 'Adj Close'], axis=1)\n",
    "y = df['Close']\n",
    "\n",
    "# # Perform feature selection by selecting features with a correlation coefficient of at least 0.5 with the target variable\n",
    "corr = X.corrwith(y)\n",
    "corr_threshold = 0.5\n",
    "selected_features = corr[abs(corr) > corr_threshold].index.tolist()\n",
    "X = X[selected_features]"
   ]
  },
  {
   "attachments": {},
   "cell_type": "markdown",
   "metadata": {},
   "source": [
    "## Splitting Data into Training and Testing Sets"
   ]
  },
  {
   "cell_type": "code",
   "execution_count": 7,
   "metadata": {},
   "outputs": [],
   "source": [
    "# Split the data into training and testing sets\n",
    "X_train, X_test, y_train, y_test = train_test_split(X, y, test_size=0.2, random_state=10, shuffle=False)"
   ]
  },
  {
   "attachments": {},
   "cell_type": "markdown",
   "metadata": {},
   "source": [
    "## Feature Scaling"
   ]
  },
  {
   "cell_type": "code",
   "execution_count": 8,
   "metadata": {},
   "outputs": [],
   "source": [
    "# Preprocess the data by scaling it\n",
    "scaler = MinMaxScaler()\n",
    "X_train_scaled = scaler.fit_transform(X_train)\n",
    "X_test_scaled = scaler.transform(X_test)"
   ]
  },
  {
   "attachments": {},
   "cell_type": "markdown",
   "metadata": {},
   "source": [
    "## Training Support Vector Regression (SVR) Model"
   ]
  },
  {
   "cell_type": "code",
   "execution_count": 9,
   "metadata": {},
   "outputs": [
    {
     "data": {
      "text/html": [
       "<style>#sk-container-id-1 {color: black;background-color: white;}#sk-container-id-1 pre{padding: 0;}#sk-container-id-1 div.sk-toggleable {background-color: white;}#sk-container-id-1 label.sk-toggleable__label {cursor: pointer;display: block;width: 100%;margin-bottom: 0;padding: 0.3em;box-sizing: border-box;text-align: center;}#sk-container-id-1 label.sk-toggleable__label-arrow:before {content: \"▸\";float: left;margin-right: 0.25em;color: #696969;}#sk-container-id-1 label.sk-toggleable__label-arrow:hover:before {color: black;}#sk-container-id-1 div.sk-estimator:hover label.sk-toggleable__label-arrow:before {color: black;}#sk-container-id-1 div.sk-toggleable__content {max-height: 0;max-width: 0;overflow: hidden;text-align: left;background-color: #f0f8ff;}#sk-container-id-1 div.sk-toggleable__content pre {margin: 0.2em;color: black;border-radius: 0.25em;background-color: #f0f8ff;}#sk-container-id-1 input.sk-toggleable__control:checked~div.sk-toggleable__content {max-height: 200px;max-width: 100%;overflow: auto;}#sk-container-id-1 input.sk-toggleable__control:checked~label.sk-toggleable__label-arrow:before {content: \"▾\";}#sk-container-id-1 div.sk-estimator input.sk-toggleable__control:checked~label.sk-toggleable__label {background-color: #d4ebff;}#sk-container-id-1 div.sk-label input.sk-toggleable__control:checked~label.sk-toggleable__label {background-color: #d4ebff;}#sk-container-id-1 input.sk-hidden--visually {border: 0;clip: rect(1px 1px 1px 1px);clip: rect(1px, 1px, 1px, 1px);height: 1px;margin: -1px;overflow: hidden;padding: 0;position: absolute;width: 1px;}#sk-container-id-1 div.sk-estimator {font-family: monospace;background-color: #f0f8ff;border: 1px dotted black;border-radius: 0.25em;box-sizing: border-box;margin-bottom: 0.5em;}#sk-container-id-1 div.sk-estimator:hover {background-color: #d4ebff;}#sk-container-id-1 div.sk-parallel-item::after {content: \"\";width: 100%;border-bottom: 1px solid gray;flex-grow: 1;}#sk-container-id-1 div.sk-label:hover label.sk-toggleable__label {background-color: #d4ebff;}#sk-container-id-1 div.sk-serial::before {content: \"\";position: absolute;border-left: 1px solid gray;box-sizing: border-box;top: 0;bottom: 0;left: 50%;z-index: 0;}#sk-container-id-1 div.sk-serial {display: flex;flex-direction: column;align-items: center;background-color: white;padding-right: 0.2em;padding-left: 0.2em;position: relative;}#sk-container-id-1 div.sk-item {position: relative;z-index: 1;}#sk-container-id-1 div.sk-parallel {display: flex;align-items: stretch;justify-content: center;background-color: white;position: relative;}#sk-container-id-1 div.sk-item::before, #sk-container-id-1 div.sk-parallel-item::before {content: \"\";position: absolute;border-left: 1px solid gray;box-sizing: border-box;top: 0;bottom: 0;left: 50%;z-index: -1;}#sk-container-id-1 div.sk-parallel-item {display: flex;flex-direction: column;z-index: 1;position: relative;background-color: white;}#sk-container-id-1 div.sk-parallel-item:first-child::after {align-self: flex-end;width: 50%;}#sk-container-id-1 div.sk-parallel-item:last-child::after {align-self: flex-start;width: 50%;}#sk-container-id-1 div.sk-parallel-item:only-child::after {width: 0;}#sk-container-id-1 div.sk-dashed-wrapped {border: 1px dashed gray;margin: 0 0.4em 0.5em 0.4em;box-sizing: border-box;padding-bottom: 0.4em;background-color: white;}#sk-container-id-1 div.sk-label label {font-family: monospace;font-weight: bold;display: inline-block;line-height: 1.2em;}#sk-container-id-1 div.sk-label-container {text-align: center;}#sk-container-id-1 div.sk-container {/* jupyter's `normalize.less` sets `[hidden] { display: none; }` but bootstrap.min.css set `[hidden] { display: none !important; }` so we also need the `!important` here to be able to override the default hidden behavior on the sphinx rendered scikit-learn.org. See: https://github.com/scikit-learn/scikit-learn/issues/21755 */display: inline-block !important;position: relative;}#sk-container-id-1 div.sk-text-repr-fallback {display: none;}</style><div id=\"sk-container-id-1\" class=\"sk-top-container\"><div class=\"sk-text-repr-fallback\"><pre>SVR()</pre><b>In a Jupyter environment, please rerun this cell to show the HTML representation or trust the notebook. <br />On GitHub, the HTML representation is unable to render, please try loading this page with nbviewer.org.</b></div><div class=\"sk-container\" hidden><div class=\"sk-item\"><div class=\"sk-estimator sk-toggleable\"><input class=\"sk-toggleable__control sk-hidden--visually\" id=\"sk-estimator-id-1\" type=\"checkbox\" checked><label for=\"sk-estimator-id-1\" class=\"sk-toggleable__label sk-toggleable__label-arrow\">SVR</label><div class=\"sk-toggleable__content\"><pre>SVR()</pre></div></div></div></div></div>"
      ],
      "text/plain": [
       "SVR()"
      ]
     },
     "execution_count": 9,
     "metadata": {},
     "output_type": "execute_result"
    }
   ],
   "source": [
    "# Build SVR model\n",
    "svr_model = SVR()\n",
    "svr_model.fit(X_train_scaled, y_train)\n"
   ]
  },
  {
   "attachments": {},
   "cell_type": "markdown",
   "metadata": {},
   "source": [
    "## Training Random Forest Regression (RFR) Model"
   ]
  },
  {
   "cell_type": "code",
   "execution_count": 10,
   "metadata": {},
   "outputs": [
    {
     "data": {
      "text/html": [
       "<style>#sk-container-id-2 {color: black;background-color: white;}#sk-container-id-2 pre{padding: 0;}#sk-container-id-2 div.sk-toggleable {background-color: white;}#sk-container-id-2 label.sk-toggleable__label {cursor: pointer;display: block;width: 100%;margin-bottom: 0;padding: 0.3em;box-sizing: border-box;text-align: center;}#sk-container-id-2 label.sk-toggleable__label-arrow:before {content: \"▸\";float: left;margin-right: 0.25em;color: #696969;}#sk-container-id-2 label.sk-toggleable__label-arrow:hover:before {color: black;}#sk-container-id-2 div.sk-estimator:hover label.sk-toggleable__label-arrow:before {color: black;}#sk-container-id-2 div.sk-toggleable__content {max-height: 0;max-width: 0;overflow: hidden;text-align: left;background-color: #f0f8ff;}#sk-container-id-2 div.sk-toggleable__content pre {margin: 0.2em;color: black;border-radius: 0.25em;background-color: #f0f8ff;}#sk-container-id-2 input.sk-toggleable__control:checked~div.sk-toggleable__content {max-height: 200px;max-width: 100%;overflow: auto;}#sk-container-id-2 input.sk-toggleable__control:checked~label.sk-toggleable__label-arrow:before {content: \"▾\";}#sk-container-id-2 div.sk-estimator input.sk-toggleable__control:checked~label.sk-toggleable__label {background-color: #d4ebff;}#sk-container-id-2 div.sk-label input.sk-toggleable__control:checked~label.sk-toggleable__label {background-color: #d4ebff;}#sk-container-id-2 input.sk-hidden--visually {border: 0;clip: rect(1px 1px 1px 1px);clip: rect(1px, 1px, 1px, 1px);height: 1px;margin: -1px;overflow: hidden;padding: 0;position: absolute;width: 1px;}#sk-container-id-2 div.sk-estimator {font-family: monospace;background-color: #f0f8ff;border: 1px dotted black;border-radius: 0.25em;box-sizing: border-box;margin-bottom: 0.5em;}#sk-container-id-2 div.sk-estimator:hover {background-color: #d4ebff;}#sk-container-id-2 div.sk-parallel-item::after {content: \"\";width: 100%;border-bottom: 1px solid gray;flex-grow: 1;}#sk-container-id-2 div.sk-label:hover label.sk-toggleable__label {background-color: #d4ebff;}#sk-container-id-2 div.sk-serial::before {content: \"\";position: absolute;border-left: 1px solid gray;box-sizing: border-box;top: 0;bottom: 0;left: 50%;z-index: 0;}#sk-container-id-2 div.sk-serial {display: flex;flex-direction: column;align-items: center;background-color: white;padding-right: 0.2em;padding-left: 0.2em;position: relative;}#sk-container-id-2 div.sk-item {position: relative;z-index: 1;}#sk-container-id-2 div.sk-parallel {display: flex;align-items: stretch;justify-content: center;background-color: white;position: relative;}#sk-container-id-2 div.sk-item::before, #sk-container-id-2 div.sk-parallel-item::before {content: \"\";position: absolute;border-left: 1px solid gray;box-sizing: border-box;top: 0;bottom: 0;left: 50%;z-index: -1;}#sk-container-id-2 div.sk-parallel-item {display: flex;flex-direction: column;z-index: 1;position: relative;background-color: white;}#sk-container-id-2 div.sk-parallel-item:first-child::after {align-self: flex-end;width: 50%;}#sk-container-id-2 div.sk-parallel-item:last-child::after {align-self: flex-start;width: 50%;}#sk-container-id-2 div.sk-parallel-item:only-child::after {width: 0;}#sk-container-id-2 div.sk-dashed-wrapped {border: 1px dashed gray;margin: 0 0.4em 0.5em 0.4em;box-sizing: border-box;padding-bottom: 0.4em;background-color: white;}#sk-container-id-2 div.sk-label label {font-family: monospace;font-weight: bold;display: inline-block;line-height: 1.2em;}#sk-container-id-2 div.sk-label-container {text-align: center;}#sk-container-id-2 div.sk-container {/* jupyter's `normalize.less` sets `[hidden] { display: none; }` but bootstrap.min.css set `[hidden] { display: none !important; }` so we also need the `!important` here to be able to override the default hidden behavior on the sphinx rendered scikit-learn.org. See: https://github.com/scikit-learn/scikit-learn/issues/21755 */display: inline-block !important;position: relative;}#sk-container-id-2 div.sk-text-repr-fallback {display: none;}</style><div id=\"sk-container-id-2\" class=\"sk-top-container\"><div class=\"sk-text-repr-fallback\"><pre>RandomForestRegressor()</pre><b>In a Jupyter environment, please rerun this cell to show the HTML representation or trust the notebook. <br />On GitHub, the HTML representation is unable to render, please try loading this page with nbviewer.org.</b></div><div class=\"sk-container\" hidden><div class=\"sk-item\"><div class=\"sk-estimator sk-toggleable\"><input class=\"sk-toggleable__control sk-hidden--visually\" id=\"sk-estimator-id-2\" type=\"checkbox\" checked><label for=\"sk-estimator-id-2\" class=\"sk-toggleable__label sk-toggleable__label-arrow\">RandomForestRegressor</label><div class=\"sk-toggleable__content\"><pre>RandomForestRegressor()</pre></div></div></div></div></div>"
      ],
      "text/plain": [
       "RandomForestRegressor()"
      ]
     },
     "execution_count": 10,
     "metadata": {},
     "output_type": "execute_result"
    }
   ],
   "source": [
    "# Build RFR model\n",
    "rfr_model = RandomForestRegressor()\n",
    "rfr_model.fit(X_train_scaled, y_train)"
   ]
  },
  {
   "attachments": {},
   "cell_type": "markdown",
   "metadata": {},
   "source": [
    "## Evaluating SVR & RFR Model Performance"
   ]
  },
  {
   "cell_type": "code",
   "execution_count": 11,
   "metadata": {},
   "outputs": [
    {
     "name": "stdout",
     "output_type": "stream",
     "text": [
      "╒═════════╤══════════════╤═════════════╤═══════════════╤══════════════╤═══════════════╤══════════════╕\n",
      "│ Model   │   R² (Train) │   R² (Test) │   MSE (Train) │   MSE (Test) │   MAE (Train) │   MAE (Test) │\n",
      "╞═════════╪══════════════╪═════════════╪═══════════════╪══════════════╪═══════════════╪══════════════╡\n",
      "│ SVR     │     0.988588 │    0.957634 │      8.25808  │      5.33995 │      1.95674  │      1.81199 │\n",
      "├─────────┼──────────────┼─────────────┼───────────────┼──────────────┼───────────────┼──────────────┤\n",
      "│ RFR     │     0.999768 │    0.985452 │      0.167603 │      1.83367 │      0.298191 │      1.0357  │\n",
      "╘═════════╧══════════════╧═════════════╧═══════════════╧══════════════╧═══════════════╧══════════════╛\n"
     ]
    }
   ],
   "source": [
    "# Evaluate SVR model on training set\n",
    "y_svr_pred_train = svr_model.predict(X_train_scaled)\n",
    "r2_svr_train = r2_score(y_train, y_svr_pred_train)\n",
    "mse_svr_train = mean_squared_error(y_train, y_svr_pred_train)\n",
    "mae_svr_train = mean_absolute_error(y_train, y_svr_pred_train)\n",
    "\n",
    "# Evaluate SVR model on testing set\n",
    "y_svr_pred_test = svr_model.predict(X_test_scaled)\n",
    "r2_svr_test = r2_score(y_test, y_svr_pred_test)\n",
    "mse_svr_test = mean_squared_error(y_test, y_svr_pred_test)\n",
    "mae_svr_test = mean_absolute_error(y_test, y_svr_pred_test)\n",
    "\n",
    "# Evaluate RFR model on training set\n",
    "y_rfr_pred_train = rfr_model.predict(X_train_scaled)\n",
    "r2_rfr_train = r2_score(y_train, y_rfr_pred_train)\n",
    "mse_rfr_train = mean_squared_error(y_train, y_rfr_pred_train)\n",
    "mae_rfr_train = mean_absolute_error(y_train, y_rfr_pred_train)\n",
    "\n",
    "# Evaluate RFR model on testing set\n",
    "y_rfr_pred_test = rfr_model.predict(X_test_scaled)\n",
    "r2_rfr_test = r2_score(y_test, y_rfr_pred_test)\n",
    "mse_rfr_test = mean_squared_error(y_test, y_rfr_pred_test)\n",
    "mae_rfr_test = mean_absolute_error(y_test, y_rfr_pred_test)\n",
    "\n",
    "# Create a table to display the evaluation metrics for SVR and RFR models\n",
    "svr_result = [\"SVR\", r2_svr_train, r2_svr_test, mse_svr_train, mse_svr_test, mae_svr_train, mae_svr_test]\n",
    "rfr_result = [\"RFR\", r2_rfr_train, r2_rfr_test, mse_rfr_train, mse_rfr_test, mae_rfr_train, mae_rfr_test]\n",
    "result_table = [svr_result, rfr_result]\n",
    "headers = [\"Model\", \"R² (Train)\", \"R² (Test)\", \"MSE (Train)\", \"MSE (Test)\", \"MAE (Train)\", \"MAE (Test)\"]\n",
    "\n",
    "# Print the evaluation metrics table\n",
    "print(tabulate(result_table, headers=headers, tablefmt=\"fancy_grid\"))\n"
   ]
  },
  {
   "attachments": {},
   "cell_type": "markdown",
   "metadata": {},
   "source": [
    "# Hyperparameter Tuning"
   ]
  },
  {
   "attachments": {},
   "cell_type": "markdown",
   "metadata": {},
   "source": [
    "## Defining Parameter Grids for SVR and RFR Models"
   ]
  },
  {
   "cell_type": "code",
   "execution_count": 12,
   "metadata": {},
   "outputs": [],
   "source": [
    "# Define the parameter grid to search over for SVR model\n",
    "param_grid_svr = {\n",
    "    'kernel': ['linear', 'poly', 'rbf'],\n",
    "    'C': [0.1, 1, 10, 100],\n",
    "    'gamma': ['auto', 'scale'],\n",
    "}\n",
    "\n",
    "# Define the parameter grid to search over for RFR model\n",
    "param_grid_rfr = {\n",
    "    'n_estimators': [100, 200, 300],\n",
    "    'max_depth': [None, 10, 20],\n",
    "    'min_samples_split': [2, 5, 10],\n",
    "    'min_samples_leaf': [1, 2, 4],\n",
    "}"
   ]
  },
  {
   "attachments": {},
   "cell_type": "markdown",
   "metadata": {},
   "source": [
    "## Performing Grid Search for SVR Model"
   ]
  },
  {
   "cell_type": "code",
   "execution_count": 13,
   "metadata": {},
   "outputs": [],
   "source": [
    "# Create a GridSearchCV object with the parameter grid and the SVR model\n",
    "grid_search_svr = GridSearchCV(\n",
    "    estimator=SVR(),\n",
    "    param_grid=param_grid_svr,\n",
    "    cv=5,\n",
    "    scoring='r2'\n",
    ")\n",
    "\n",
    "# Fit the GridSearchCV object to the training data\n",
    "grid_search_svr.fit(X_train_scaled, y_train)\n",
    "\n",
    "# Get the best SVR model\n",
    "svr_model = grid_search_svr.best_estimator_"
   ]
  },
  {
   "attachments": {},
   "cell_type": "markdown",
   "metadata": {},
   "source": [
    "## Performing Grid Search for RFR Model"
   ]
  },
  {
   "cell_type": "code",
   "execution_count": 14,
   "metadata": {},
   "outputs": [],
   "source": [
    "# Create a GridSearchCV object with the parameter grid and the RFR model\n",
    "grid_search_rfr = GridSearchCV(\n",
    "    estimator=RandomForestRegressor(),\n",
    "    param_grid=param_grid_rfr,\n",
    "    cv=5,\n",
    "    scoring='r2'\n",
    ")\n",
    "\n",
    "# Fit the GridSearchCV object to the training data\n",
    "grid_search_rfr.fit(X_train_scaled, y_train)\n",
    "\n",
    "# Get the best RFR model\n",
    "rfr_model = grid_search_rfr.best_estimator_"
   ]
  },
  {
   "attachments": {},
   "cell_type": "markdown",
   "metadata": {},
   "source": [
    "# Voting Regressor"
   ]
  },
  {
   "attachments": {},
   "cell_type": "markdown",
   "metadata": {},
   "source": [
    "## Creating a Voting Regressor with SVR and RFR Models"
   ]
  },
  {
   "cell_type": "code",
   "execution_count": 15,
   "metadata": {},
   "outputs": [],
   "source": [
    "from sklearn.ensemble import VotingRegressor\n",
    "\n",
    "# Define the ensemble classifier using a VotingClassifier\n",
    "voting_model = VotingRegressor(\n",
    "    estimators=[('svm', svr_model), ('rfc', rfr_model)])"
   ]
  },
  {
   "attachments": {},
   "cell_type": "markdown",
   "metadata": {},
   "source": [
    "## Training Voting Regressor"
   ]
  },
  {
   "cell_type": "code",
   "execution_count": 16,
   "metadata": {},
   "outputs": [
    {
     "data": {
      "text/html": [
       "<style>#sk-container-id-3 {color: black;background-color: white;}#sk-container-id-3 pre{padding: 0;}#sk-container-id-3 div.sk-toggleable {background-color: white;}#sk-container-id-3 label.sk-toggleable__label {cursor: pointer;display: block;width: 100%;margin-bottom: 0;padding: 0.3em;box-sizing: border-box;text-align: center;}#sk-container-id-3 label.sk-toggleable__label-arrow:before {content: \"▸\";float: left;margin-right: 0.25em;color: #696969;}#sk-container-id-3 label.sk-toggleable__label-arrow:hover:before {color: black;}#sk-container-id-3 div.sk-estimator:hover label.sk-toggleable__label-arrow:before {color: black;}#sk-container-id-3 div.sk-toggleable__content {max-height: 0;max-width: 0;overflow: hidden;text-align: left;background-color: #f0f8ff;}#sk-container-id-3 div.sk-toggleable__content pre {margin: 0.2em;color: black;border-radius: 0.25em;background-color: #f0f8ff;}#sk-container-id-3 input.sk-toggleable__control:checked~div.sk-toggleable__content {max-height: 200px;max-width: 100%;overflow: auto;}#sk-container-id-3 input.sk-toggleable__control:checked~label.sk-toggleable__label-arrow:before {content: \"▾\";}#sk-container-id-3 div.sk-estimator input.sk-toggleable__control:checked~label.sk-toggleable__label {background-color: #d4ebff;}#sk-container-id-3 div.sk-label input.sk-toggleable__control:checked~label.sk-toggleable__label {background-color: #d4ebff;}#sk-container-id-3 input.sk-hidden--visually {border: 0;clip: rect(1px 1px 1px 1px);clip: rect(1px, 1px, 1px, 1px);height: 1px;margin: -1px;overflow: hidden;padding: 0;position: absolute;width: 1px;}#sk-container-id-3 div.sk-estimator {font-family: monospace;background-color: #f0f8ff;border: 1px dotted black;border-radius: 0.25em;box-sizing: border-box;margin-bottom: 0.5em;}#sk-container-id-3 div.sk-estimator:hover {background-color: #d4ebff;}#sk-container-id-3 div.sk-parallel-item::after {content: \"\";width: 100%;border-bottom: 1px solid gray;flex-grow: 1;}#sk-container-id-3 div.sk-label:hover label.sk-toggleable__label {background-color: #d4ebff;}#sk-container-id-3 div.sk-serial::before {content: \"\";position: absolute;border-left: 1px solid gray;box-sizing: border-box;top: 0;bottom: 0;left: 50%;z-index: 0;}#sk-container-id-3 div.sk-serial {display: flex;flex-direction: column;align-items: center;background-color: white;padding-right: 0.2em;padding-left: 0.2em;position: relative;}#sk-container-id-3 div.sk-item {position: relative;z-index: 1;}#sk-container-id-3 div.sk-parallel {display: flex;align-items: stretch;justify-content: center;background-color: white;position: relative;}#sk-container-id-3 div.sk-item::before, #sk-container-id-3 div.sk-parallel-item::before {content: \"\";position: absolute;border-left: 1px solid gray;box-sizing: border-box;top: 0;bottom: 0;left: 50%;z-index: -1;}#sk-container-id-3 div.sk-parallel-item {display: flex;flex-direction: column;z-index: 1;position: relative;background-color: white;}#sk-container-id-3 div.sk-parallel-item:first-child::after {align-self: flex-end;width: 50%;}#sk-container-id-3 div.sk-parallel-item:last-child::after {align-self: flex-start;width: 50%;}#sk-container-id-3 div.sk-parallel-item:only-child::after {width: 0;}#sk-container-id-3 div.sk-dashed-wrapped {border: 1px dashed gray;margin: 0 0.4em 0.5em 0.4em;box-sizing: border-box;padding-bottom: 0.4em;background-color: white;}#sk-container-id-3 div.sk-label label {font-family: monospace;font-weight: bold;display: inline-block;line-height: 1.2em;}#sk-container-id-3 div.sk-label-container {text-align: center;}#sk-container-id-3 div.sk-container {/* jupyter's `normalize.less` sets `[hidden] { display: none; }` but bootstrap.min.css set `[hidden] { display: none !important; }` so we also need the `!important` here to be able to override the default hidden behavior on the sphinx rendered scikit-learn.org. See: https://github.com/scikit-learn/scikit-learn/issues/21755 */display: inline-block !important;position: relative;}#sk-container-id-3 div.sk-text-repr-fallback {display: none;}</style><div id=\"sk-container-id-3\" class=\"sk-top-container\"><div class=\"sk-text-repr-fallback\"><pre>VotingRegressor(estimators=[(&#x27;svm&#x27;, SVR(C=100, gamma=&#x27;auto&#x27;, kernel=&#x27;linear&#x27;)),\n",
       "                            (&#x27;rfc&#x27;,\n",
       "                             RandomForestRegressor(max_depth=20,\n",
       "                                                   min_samples_leaf=2,\n",
       "                                                   n_estimators=200))])</pre><b>In a Jupyter environment, please rerun this cell to show the HTML representation or trust the notebook. <br />On GitHub, the HTML representation is unable to render, please try loading this page with nbviewer.org.</b></div><div class=\"sk-container\" hidden><div class=\"sk-item sk-dashed-wrapped\"><div class=\"sk-label-container\"><div class=\"sk-label sk-toggleable\"><input class=\"sk-toggleable__control sk-hidden--visually\" id=\"sk-estimator-id-3\" type=\"checkbox\" ><label for=\"sk-estimator-id-3\" class=\"sk-toggleable__label sk-toggleable__label-arrow\">VotingRegressor</label><div class=\"sk-toggleable__content\"><pre>VotingRegressor(estimators=[(&#x27;svm&#x27;, SVR(C=100, gamma=&#x27;auto&#x27;, kernel=&#x27;linear&#x27;)),\n",
       "                            (&#x27;rfc&#x27;,\n",
       "                             RandomForestRegressor(max_depth=20,\n",
       "                                                   min_samples_leaf=2,\n",
       "                                                   n_estimators=200))])</pre></div></div></div><div class=\"sk-parallel\"><div class=\"sk-parallel-item\"><div class=\"sk-item\"><div class=\"sk-label-container\"><div class=\"sk-label sk-toggleable\"><label>svm</label></div></div><div class=\"sk-serial\"><div class=\"sk-item\"><div class=\"sk-estimator sk-toggleable\"><input class=\"sk-toggleable__control sk-hidden--visually\" id=\"sk-estimator-id-4\" type=\"checkbox\" ><label for=\"sk-estimator-id-4\" class=\"sk-toggleable__label sk-toggleable__label-arrow\">SVR</label><div class=\"sk-toggleable__content\"><pre>SVR(C=100, gamma=&#x27;auto&#x27;, kernel=&#x27;linear&#x27;)</pre></div></div></div></div></div></div><div class=\"sk-parallel-item\"><div class=\"sk-item\"><div class=\"sk-label-container\"><div class=\"sk-label sk-toggleable\"><label>rfc</label></div></div><div class=\"sk-serial\"><div class=\"sk-item\"><div class=\"sk-estimator sk-toggleable\"><input class=\"sk-toggleable__control sk-hidden--visually\" id=\"sk-estimator-id-5\" type=\"checkbox\" ><label for=\"sk-estimator-id-5\" class=\"sk-toggleable__label sk-toggleable__label-arrow\">RandomForestRegressor</label><div class=\"sk-toggleable__content\"><pre>RandomForestRegressor(max_depth=20, min_samples_leaf=2, n_estimators=200)</pre></div></div></div></div></div></div></div></div></div></div>"
      ],
      "text/plain": [
       "VotingRegressor(estimators=[('svm', SVR(C=100, gamma='auto', kernel='linear')),\n",
       "                            ('rfc',\n",
       "                             RandomForestRegressor(max_depth=20,\n",
       "                                                   min_samples_leaf=2,\n",
       "                                                   n_estimators=200))])"
      ]
     },
     "execution_count": 16,
     "metadata": {},
     "output_type": "execute_result"
    }
   ],
   "source": [
    "voting_model.fit(X_train_scaled, y_train)"
   ]
  },
  {
   "attachments": {},
   "cell_type": "markdown",
   "metadata": {},
   "source": [
    "# Final Evaluation and Forecasting"
   ]
  },
  {
   "attachments": {},
   "cell_type": "markdown",
   "metadata": {},
   "source": [
    "## Evaluating Final Models (SVR, RFR, Voting)"
   ]
  },
  {
   "cell_type": "code",
   "execution_count": 17,
   "metadata": {},
   "outputs": [
    {
     "name": "stdout",
     "output_type": "stream",
     "text": [
      "╒════════════╤══════════════╤═════════════╤═══════════════╤══════════════╤═══════════════╤══════════════╕\n",
      "│ Model      │   R² (Train) │   R² (Test) │   MSE (Train) │   MSE (Test) │   MAE (Train) │   MAE (Test) │\n",
      "╞════════════╪══════════════╪═════════════╪═══════════════╪══════════════╪═══════════════╪══════════════╡\n",
      "│ SVR (Best) │     0.999363 │    0.996353 │      0.460948 │     0.459613 │      0.512021 │     0.540811 │\n",
      "├────────────┼──────────────┼─────────────┼───────────────┼──────────────┼───────────────┼──────────────┤\n",
      "│ RFR (Best) │     0.9997   │    0.984791 │      0.216994 │     1.91696  │      0.334075 │     1.0628   │\n",
      "├────────────┼──────────────┼─────────────┼───────────────┼──────────────┼───────────────┼──────────────┤\n",
      "│ Voting     │     0.999603 │    0.993384 │      0.287111 │     0.833835 │      0.399183 │     0.723789 │\n",
      "╘════════════╧══════════════╧═════════════╧═══════════════╧══════════════╧═══════════════╧══════════════╛\n"
     ]
    }
   ],
   "source": [
    "# SVR Train Score\n",
    "y_svr_pred_train = svr_model.predict(X_train_scaled)\n",
    "r2_svr_train = r2_score(y_train, y_svr_pred_train)\n",
    "mse_svr_train = mean_squared_error(y_train, y_svr_pred_train)\n",
    "mae_svr_train = mean_absolute_error(y_train, y_svr_pred_train)\n",
    "\n",
    "# SVR Test Score\n",
    "y_svr_pred_test = svr_model.predict(X_test_scaled)\n",
    "r2_svr_test = r2_score(y_test, y_svr_pred_test)\n",
    "mse_svr_test = mean_squared_error(y_test, y_svr_pred_test)\n",
    "mae_svr_test = mean_absolute_error(y_test, y_svr_pred_test)\n",
    "\n",
    "# RFR Train Score\n",
    "y_rfr_pred_train = rfr_model.predict(X_train_scaled)\n",
    "r2_rfr_train = r2_score(y_train, y_rfr_pred_train)\n",
    "mse_rfr_train = mean_squared_error(y_train, y_rfr_pred_train)\n",
    "mae_rfr_train = mean_absolute_error(y_train, y_rfr_pred_train)\n",
    "\n",
    "# RFR Test Score\n",
    "y_rfr_pred_test = rfr_model.predict(X_test_scaled)\n",
    "r2_rfr_test = r2_score(y_test, y_rfr_pred_test)\n",
    "mse_rfr_test = mean_squared_error(y_test, y_rfr_pred_test)\n",
    "mae_rfr_test = mean_absolute_error(y_test, y_rfr_pred_test)\n",
    "\n",
    "# Voting Train Score\n",
    "y_voting_pred_train = voting_model.predict(X_train_scaled)\n",
    "r2_voting_train = r2_score(y_train, y_voting_pred_train)\n",
    "mse_voting_train = mean_squared_error(y_train, y_voting_pred_train)\n",
    "mae_voting_train = mean_absolute_error(y_train, y_voting_pred_train)\n",
    "\n",
    "# Voting Test Score\n",
    "y_voting_pred_test = voting_model.predict(X_test_scaled)\n",
    "r2_voting_test = r2_score(y_test, y_voting_pred_test)\n",
    "mse_voting_test = mean_squared_error(y_test, y_voting_pred_test)\n",
    "mae_voting_test = mean_absolute_error(y_test, y_voting_pred_test)\n",
    "\n",
    "svr_result = [\"SVR (Best)\", r2_svr_train, r2_svr_test, mse_svr_train,\n",
    "            mse_svr_test, mae_svr_train, mae_svr_test]\n",
    "\n",
    "rfr_result = [\"RFR (Best)\", r2_rfr_train, r2_rfr_test, mse_rfr_train,\n",
    "            mse_rfr_test, mae_rfr_train, mae_rfr_test]\n",
    "\n",
    "voting_result = [\"Voting\", r2_voting_train, r2_voting_test, mse_voting_train,\n",
    "            mse_voting_test, mae_voting_train, mae_voting_test]\n",
    "\n",
    "result_table = [svr_result, rfr_result, voting_result]\n",
    "headers = [\"Model\", \"R² (Train)\", \"R² (Test)\",\"MSE (Train)\", \"MSE (Test)\", \"MAE (Train)\", \"MAE (Test)\"]\n",
    "\n",
    "print(tabulate(result_table, headers=headers, tablefmt=\"fancy_grid\"))"
   ]
  },
  {
   "attachments": {},
   "cell_type": "markdown",
   "metadata": {},
   "source": [
    "## Cross-Validation"
   ]
  },
  {
   "cell_type": "code",
   "execution_count": 18,
   "metadata": {},
   "outputs": [
    {
     "name": "stdout",
     "output_type": "stream",
     "text": [
      "╒═════════╤══════════════════╤══════════════════╤═════════════════╤═════════════════════════╕\n",
      "│ Model   │   Mean MSE Score │   Mean MAE Score │   Mean R² Score │   R² Standard Deviation │\n",
      "╞═════════╪══════════════════╪══════════════════╪═════════════════╪═════════════════════════╡\n",
      "│ SVR     │         11.2391  │          2.44653 │        0.828753 │                0.183135 │\n",
      "├─────────┼──────────────────┼──────────────────┼─────────────────┼─────────────────────────┤\n",
      "│ RFR     │         22.198   │          2.45262 │        0.566471 │                0.761541 │\n",
      "├─────────┼──────────────────┼──────────────────┼─────────────────┼─────────────────────────┤\n",
      "│ Voting  │          4.29518 │          1.43401 │        0.931628 │                0.079743 │\n",
      "╘═════════╧══════════════════╧══════════════════╧═════════════════╧═════════════════════════╛\n"
     ]
    }
   ],
   "source": [
    "# Perform cross-validation\n",
    "# Define the scoring metrics\n",
    "scoring = ['neg_mean_squared_error', 'neg_mean_absolute_error', 'r2']\n",
    "\n",
    "# Perform cross-validation and calculate the mean and standard deviation for each scoring metric\n",
    "cv_results = []\n",
    "\n",
    "svr_cv_results = ['SVR']\n",
    "rfr_cv_results = ['RFR']\n",
    "voting_cv_results = ['Voting']\n",
    "\n",
    "for score in scoring:\n",
    "    svr_cv_scores = cross_val_score(svr_model, X, y, cv=5, scoring=score)\n",
    "    rfr_cv_scores = cross_val_score(rfr_model, X, y, cv=5, scoring=score)\n",
    "    voting_cv_scores = cross_val_score(voting_model, X, y, cv=5, scoring=score)\n",
    "\n",
    "    if score == 'r2':\n",
    "        svr_cv_results.append(svr_cv_scores.mean())\n",
    "        svr_cv_results.append(svr_cv_scores.std())\n",
    "\n",
    "        rfr_cv_results.append(rfr_cv_scores.mean())\n",
    "        rfr_cv_results.append(rfr_cv_scores.std())\n",
    "\n",
    "        voting_cv_results.append(voting_cv_scores.mean())\n",
    "        voting_cv_results.append(voting_cv_scores.std())\n",
    "    else:\n",
    "        svr_cv_results.append(np.abs(svr_cv_scores).mean())\n",
    "        rfr_cv_results.append(np.abs(rfr_cv_scores).mean())\n",
    "        voting_cv_results.append(np.abs(voting_cv_scores).mean())\n",
    "\n",
    "cv_results.extend([svr_cv_results, rfr_cv_results, voting_cv_results])\n",
    "\n",
    "# Create a table to display the cross-validation results\n",
    "cv_headers = [\"Model\", \"Mean MSE Score\", \"Mean MAE Score\", \"Mean R² Score\", \"R² Standard Deviation\"]\n",
    "print(tabulate(cv_results, headers=cv_headers, tablefmt=\"fancy_grid\"))\n"
   ]
  },
  {
   "attachments": {},
   "cell_type": "markdown",
   "metadata": {},
   "source": [
    "## Downloading Latest Historical Price Data"
   ]
  },
  {
   "attachments": {},
   "cell_type": "markdown",
   "metadata": {},
   "source": [
    "## Preparing Forecast Data"
   ]
  },
  {
   "cell_type": "code",
   "execution_count": 19,
   "metadata": {},
   "outputs": [],
   "source": [
    "last_index_date = df.index[-1]\n",
    "start_index_date = df.tail(60).index\n",
    "\n",
    "# Download latest 60 days historical price data from Yahoo Finance and store in a pandas DataFrame\n",
    "df_actual = yf.download(\"GOOGL\", start=start_index_date[0], end=last_index_date, progress=False)\n",
    "\n",
    "number_of_days = len(df_actual)\n",
    "last_n_days = df[-number_of_days:]\n",
    "\n",
    "last_n_days_df = pd.DataFrame(\n",
    "    last_n_days, columns=X.columns)\n",
    "\n",
    "X_pred = scaler.transform(last_n_days_df)\n",
    "\n",
    "y_svr_pred = svr_model.predict(X_pred) \n",
    "y_rfr_pred = rfr_model.predict(X_pred)\n",
    "y_voting_pred = voting_model.predict(X_pred) \n",
    "\n",
    "df_pred = pd.DataFrame({'SVR Prediction': y_svr_pred,\n",
    "                        'RFR Prediction': y_rfr_pred,\n",
    "                        'Voting Prediction': y_voting_pred}, index=df_actual.index)\n",
    "\n",
    "df_combined = pd.concat([df_actual, df_pred], axis=1)\n",
    "\n",
    "forecast_dates = pd.date_range(start=df.index[-1] + pd.DateOffset(days=1), periods=10, freq='B')\n",
    "df_forecast = pd.DataFrame(index=forecast_dates)\n",
    "\n",
    "# Get the last available historical data\n",
    "last_data = X.iloc[-10:, :]  # Get the last 35 data points, assuming each row represents a sample\n",
    "\n",
    "# Preprocess the forecast data by scaling it using the same scaler used for training\n",
    "last_data_scaled = scaler.transform(last_data)"
   ]
  },
  {
   "attachments": {},
   "cell_type": "markdown",
   "metadata": {},
   "source": [
    "## Making Predictions for Forecast Period using Final Models"
   ]
  },
  {
   "cell_type": "code",
   "execution_count": 20,
   "metadata": {},
   "outputs": [],
   "source": [
    "# Make predictions for the forecast period using the SVR and RFR models\n",
    "svr_prediction = svr_model.predict(last_data_scaled)\n",
    "rfr_prediction = rfr_model.predict(last_data_scaled)\n",
    "voting_prediction = voting_model.predict(last_data_scaled)\n",
    "\n",
    "# Assign the forecasted prices to the DataFrame columns\n",
    "df_forecast['SVR Prediction'] = svr_prediction\n",
    "df_forecast['RFR Prediction'] = rfr_prediction\n",
    "df_forecast['Voting Prediction'] = voting_prediction\n",
    "\n",
    "# Set the display format for float values\n",
    "pd.set_option('display.float_format', lambda x: '%.3f' % x)"
   ]
  },
  {
   "attachments": {},
   "cell_type": "markdown",
   "metadata": {},
   "source": [
    "## Combining Actual Prices and Forecasted Prices from all models"
   ]
  },
  {
   "cell_type": "code",
   "execution_count": 21,
   "metadata": {},
   "outputs": [],
   "source": [
    "df_combined2 = pd.concat([df_combined, df_forecast])"
   ]
  },
  {
   "attachments": {},
   "cell_type": "markdown",
   "metadata": {},
   "source": [
    "## Visualizing Actual Prices and Predictions"
   ]
  },
  {
   "cell_type": "code",
   "execution_count": 22,
   "metadata": {},
   "outputs": [
    {
     "data": {
      "image/png": "[encoded data removed]",
      "text/plain": [
       "<Figure size 1600x800 with 1 Axes>"
      ]
     },
     "metadata": {},
     "output_type": "display_data"
    }
   ],
   "source": [
    "# Plot the actual price and the predictions\n",
    "plt.figure(figsize=(16, 8))\n",
    "plt.plot(df_combined2.index, df_combined2['Close'], label='Historical')\n",
    "plt.plot(df_combined2.index,\n",
    "        df_combined2['SVR Prediction'], label='SVR Prediction')\n",
    "plt.plot(df_combined2.index,\n",
    "        df_combined2['RFR Prediction'], label='RFR Prediction')\n",
    "plt.plot(df_combined2.index,\n",
    "        df_combined2['Voting Prediction'], label='Voting Prediction')\n",
    "\n",
    "plt.xlabel('Date')\n",
    "plt.ylabel('Price')\n",
    "plt.legend()\n",
    "plt.show()"
   ]
  },
  {
   "attachments": {},
   "cell_type": "markdown",
   "metadata": {},
   "source": [
    "## Displaying Forecasted Prices from all models"
   ]
  },
  {
   "cell_type": "code",
   "execution_count": 23,
   "metadata": {},
   "outputs": [
    {
     "name": "stdout",
     "output_type": "stream",
     "text": [
      "╒═════════════════════╤══════════════════╤══════════════════╤═════════════════════╕\n",
      "│                     │   SVR Prediction │   RFR Prediction │   Voting Prediction │\n",
      "╞═════════════════════╪══════════════════╪══════════════════╪═════════════════════╡\n",
      "│ 2023-06-22 00:00:00 │          124.029 │          125.225 │             124.581 │\n",
      "├─────────────────────┼──────────────────┼──────────────────┼─────────────────────┤\n",
      "│ 2023-06-23 00:00:00 │          122.248 │          122.745 │             122.494 │\n",
      "├─────────────────────┼──────────────────┼──────────────────┼─────────────────────┤\n",
      "│ 2023-06-26 00:00:00 │          122.826 │          122.852 │             122.859 │\n",
      "├─────────────────────┼──────────────────┼──────────────────┼─────────────────────┤\n",
      "│ 2023-06-27 00:00:00 │          122.951 │          122.753 │             122.864 │\n",
      "├─────────────────────┼──────────────────┼──────────────────┼─────────────────────┤\n",
      "│ 2023-06-28 00:00:00 │          123.78  │          124.149 │             123.881 │\n",
      "├─────────────────────┼──────────────────┼──────────────────┼─────────────────────┤\n",
      "│ 2023-06-29 00:00:00 │          122.664 │          122.543 │             122.549 │\n",
      "├─────────────────────┼──────────────────┼──────────────────┼─────────────────────┤\n",
      "│ 2023-06-30 00:00:00 │          124.331 │          123.608 │             124.024 │\n",
      "├─────────────────────┼──────────────────┼──────────────────┼─────────────────────┤\n",
      "│ 2023-07-03 00:00:00 │          123.847 │          125.209 │             124.483 │\n",
      "├─────────────────────┼──────────────────┼──────────────────┼─────────────────────┤\n",
      "│ 2023-07-04 00:00:00 │          123.426 │          122.995 │             123.241 │\n",
      "├─────────────────────┼──────────────────┼──────────────────┼─────────────────────┤\n",
      "│ 2023-07-05 00:00:00 │          120.561 │          121.81  │             121.197 │\n",
      "╘═════════════════════╧══════════════════╧══════════════════╧═════════════════════╛\n"
     ]
    }
   ],
   "source": [
    "# Assuming df_forecast is your DataFrame\n",
    "table = tabulate(df_forecast, headers='keys', tablefmt='fancy_grid')\n",
    "print(table)\n"
   ]
  },
  {
   "cell_type": "code",
   "execution_count": 24,
   "metadata": {},
   "outputs": [
    {
     "data": {
      "application/vnd.plotly.v1+json": {
       "config": {
        "plotlyServerURL": "https://plot.ly"
       },
       "data": [
        {
         "mode": "lines",
         "name": "Historical",
         "type": "scatter",
         "x": [
          "2023-03-27T00:00:00",
          "2023-03-28T00:00:00",
          "2023-03-29T00:00:00",
          "2023-03-30T00:00:00",
          "2023-03-31T00:00:00",
          "2023-04-03T00:00:00",
          "2023-04-04T00:00:00",
          "2023-04-05T00:00:00",
          "2023-04-06T00:00:00",
          "2023-04-10T00:00:00",
          "2023-04-11T00:00:00",
          "2023-04-12T00:00:00",
          "2023-04-13T00:00:00",
          "2023-04-14T00:00:00",
          "2023-04-17T00:00:00",
          "2023-04-18T00:00:00",
          "2023-04-19T00:00:00",
          "2023-04-20T00:00:00",
          "2023-04-21T00:00:00",
          "2023-04-24T00:00:00",
          "2023-04-25T00:00:00",
          "2023-04-26T00:00:00",
          "2023-04-27T00:00:00",
          "2023-04-28T00:00:00",
          "2023-05-01T00:00:00",
          "2023-05-02T00:00:00",
          "2023-05-03T00:00:00",
          "2023-05-04T00:00:00",
          "2023-05-05T00:00:00",
          "2023-05-08T00:00:00",
          "2023-05-09T00:00:00",
          "2023-05-10T00:00:00",
          "2023-05-11T00:00:00",
          "2023-05-12T00:00:00",
          "2023-05-15T00:00:00",
          "2023-05-16T00:00:00",
          "2023-05-17T00:00:00",
          "2023-05-18T00:00:00",
          "2023-05-19T00:00:00",
          "2023-05-22T00:00:00",
          "2023-05-23T00:00:00",
          "2023-05-24T00:00:00",
          "2023-05-25T00:00:00",
          "2023-05-26T00:00:00",
          "2023-05-30T00:00:00",
          "2023-05-31T00:00:00",
          "2023-06-01T00:00:00",
          "2023-06-02T00:00:00",
          "2023-06-05T00:00:00",
          "2023-06-06T00:00:00",
          "2023-06-07T00:00:00",
          "2023-06-08T00:00:00",
          "2023-06-09T00:00:00",
          "2023-06-12T00:00:00",
          "2023-06-13T00:00:00",
          "2023-06-14T00:00:00",
          "2023-06-15T00:00:00",
          "2023-06-16T00:00:00",
          "2023-06-20T00:00:00",
          "2023-06-22T00:00:00",
          "2023-06-23T00:00:00",
          "2023-06-26T00:00:00",
          "2023-06-27T00:00:00",
          "2023-06-28T00:00:00",
          "2023-06-29T00:00:00",
          "2023-06-30T00:00:00",
          "2023-07-03T00:00:00",
          "2023-07-04T00:00:00",
          "2023-07-05T00:00:00"
         ],
         "y": [
          102.45999908447266,
          101.02999877929688,
          101.38999938964844,
          100.88999938964844,
          103.7300033569336,
          104.36000061035156,
          104.72000122070312,
          104.47000122070312,
          108.41999816894531,
          106.44000244140625,
          105.3499984741211,
          104.63999938964844,
          107.43000030517578,
          108.87000274658203,
          105.97000122070312,
          104.5,
          104.18000030517578,
          105.29000091552734,
          105.41000366210938,
          105.97000122070312,
          103.8499984741211,
          103.70999908447266,
          107.58999633789062,
          107.33999633789062,
          107.19999694824219,
          105.31999969482422,
          105.41000366210938,
          104.69000244140625,
          105.56999969482422,
          107.7699966430664,
          107.3499984741211,
          111.75,
          116.56999969482422,
          117.51000213623047,
          116.51000213623047,
          119.51000213623047,
          120.83999633789062,
          122.83000183105469,
          122.76000213623047,
          125.05000305175781,
          122.55999755859375,
          120.9000015258789,
          123.4800033569336,
          124.61000061035156,
          123.66999816894531,
          122.87000274658203,
          123.72000122070312,
          124.66999816894531,
          126.01000213623047,
          127.30999755859375,
          122.5,
          122.13999938964844,
          122.2300033569336,
          123.63999938964844,
          123.83000183105469,
          123.66999816894531,
          125.08999633789062,
          123.52999877929688,
          123.0999984741211,
          null,
          null,
          null,
          null,
          null,
          null,
          null,
          null,
          null,
          null
         ]
        },
        {
         "mode": "lines",
         "name": "SVR Prediction",
         "type": "scatter",
         "x": [
          "2023-03-27T00:00:00",
          "2023-03-28T00:00:00",
          "2023-03-29T00:00:00",
          "2023-03-30T00:00:00",
          "2023-03-31T00:00:00",
          "2023-04-03T00:00:00",
          "2023-04-04T00:00:00",
          "2023-04-05T00:00:00",
          "2023-04-06T00:00:00",
          "2023-04-10T00:00:00",
          "2023-04-11T00:00:00",
          "2023-04-12T00:00:00",
          "2023-04-13T00:00:00",
          "2023-04-14T00:00:00",
          "2023-04-17T00:00:00",
          "2023-04-18T00:00:00",
          "2023-04-19T00:00:00",
          "2023-04-20T00:00:00",
          "2023-04-21T00:00:00",
          "2023-04-24T00:00:00",
          "2023-04-25T00:00:00",
          "2023-04-26T00:00:00",
          "2023-04-27T00:00:00",
          "2023-04-28T00:00:00",
          "2023-05-01T00:00:00",
          "2023-05-02T00:00:00",
          "2023-05-03T00:00:00",
          "2023-05-04T00:00:00",
          "2023-05-05T00:00:00",
          "2023-05-08T00:00:00",
          "2023-05-09T00:00:00",
          "2023-05-10T00:00:00",
          "2023-05-11T00:00:00",
          "2023-05-12T00:00:00",
          "2023-05-15T00:00:00",
          "2023-05-16T00:00:00",
          "2023-05-17T00:00:00",
          "2023-05-18T00:00:00",
          "2023-05-19T00:00:00",
          "2023-05-22T00:00:00",
          "2023-05-23T00:00:00",
          "2023-05-24T00:00:00",
          "2023-05-25T00:00:00",
          "2023-05-26T00:00:00",
          "2023-05-30T00:00:00",
          "2023-05-31T00:00:00",
          "2023-06-01T00:00:00",
          "2023-06-02T00:00:00",
          "2023-06-05T00:00:00",
          "2023-06-06T00:00:00",
          "2023-06-07T00:00:00",
          "2023-06-08T00:00:00",
          "2023-06-09T00:00:00",
          "2023-06-12T00:00:00",
          "2023-06-13T00:00:00",
          "2023-06-14T00:00:00",
          "2023-06-15T00:00:00",
          "2023-06-16T00:00:00",
          "2023-06-20T00:00:00",
          "2023-06-22T00:00:00",
          "2023-06-23T00:00:00",
          "2023-06-26T00:00:00",
          "2023-06-27T00:00:00",
          "2023-06-28T00:00:00",
          "2023-06-29T00:00:00",
          "2023-06-30T00:00:00",
          "2023-07-03T00:00:00",
          "2023-07-04T00:00:00",
          "2023-07-05T00:00:00"
         ],
         "y": [
          100.40806599716123,
          101.15323970269952,
          100.17257605573548,
          102.70182546667229,
          103.40236547076897,
          104.65918947406074,
          104.17835471141888,
          107.14891013035275,
          105.70896259210166,
          105.29743235180868,
          105.07365526328648,
          107.2695420156051,
          108.46925481261317,
          105.3760415492721,
          104.70237689819618,
          104.01720594422117,
          105.58495065566996,
          105.16921905453495,
          105.76439572955503,
          104.771335068749,
          104.20902509977695,
          106.5614700424671,
          105.81372419439101,
          107.73232370211461,
          104.6590942159739,
          106.58102614808914,
          104.52519433329732,
          105.26136861882823,
          107.28499414703754,
          108.65199419087207,
          111.63848999166402,
          116.39082512222129,
          117.2274728825083,
          117.34300445535965,
          119.40417843762074,
          120.58832026260563,
          122.63150736963911,
          123.97645821824017,
          125.1284275334728,
          122.7865804831884,
          120.46743998882684,
          122.92394143238565,
          123.71973334012242,
          122.7989835098906,
          122.98087185298431,
          123.55557825351161,
          124.87299838835372,
          125.90678132645357,
          126.81260579843487,
          124.0287279143732,
          122.24789521989649,
          122.82645189308366,
          122.95132098481372,
          123.78035751126313,
          122.66449178464,
          124.33117724290696,
          123.84730022034054,
          123.42567985483558,
          120.56100605945619,
          124.0287279143732,
          122.24789521989649,
          122.82645189308366,
          122.95132098481372,
          123.78035751126313,
          122.66449178464,
          124.33117724290696,
          123.84730022034054,
          123.42567985483558,
          120.56100605945619
         ]
        },
        {
         "mode": "lines",
         "name": "RFR Prediction",
         "type": "scatter",
         "x": [
          "2023-03-27T00:00:00",
          "2023-03-28T00:00:00",
          "2023-03-29T00:00:00",
          "2023-03-30T00:00:00",
          "2023-03-31T00:00:00",
          "2023-04-03T00:00:00",
          "2023-04-04T00:00:00",
          "2023-04-05T00:00:00",
          "2023-04-06T00:00:00",
          "2023-04-10T00:00:00",
          "2023-04-11T00:00:00",
          "2023-04-12T00:00:00",
          "2023-04-13T00:00:00",
          "2023-04-14T00:00:00",
          "2023-04-17T00:00:00",
          "2023-04-18T00:00:00",
          "2023-04-19T00:00:00",
          "2023-04-20T00:00:00",
          "2023-04-21T00:00:00",
          "2023-04-24T00:00:00",
          "2023-04-25T00:00:00",
          "2023-04-26T00:00:00",
          "2023-04-27T00:00:00",
          "2023-04-28T00:00:00",
          "2023-05-01T00:00:00",
          "2023-05-02T00:00:00",
          "2023-05-03T00:00:00",
          "2023-05-04T00:00:00",
          "2023-05-05T00:00:00",
          "2023-05-08T00:00:00",
          "2023-05-09T00:00:00",
          "2023-05-10T00:00:00",
          "2023-05-11T00:00:00",
          "2023-05-12T00:00:00",
          "2023-05-15T00:00:00",
          "2023-05-16T00:00:00",
          "2023-05-17T00:00:00",
          "2023-05-18T00:00:00",
          "2023-05-19T00:00:00",
          "2023-05-22T00:00:00",
          "2023-05-23T00:00:00",
          "2023-05-24T00:00:00",
          "2023-05-25T00:00:00",
          "2023-05-26T00:00:00",
          "2023-05-30T00:00:00",
          "2023-05-31T00:00:00",
          "2023-06-01T00:00:00",
          "2023-06-02T00:00:00",
          "2023-06-05T00:00:00",
          "2023-06-06T00:00:00",
          "2023-06-07T00:00:00",
          "2023-06-08T00:00:00",
          "2023-06-09T00:00:00",
          "2023-06-12T00:00:00",
          "2023-06-13T00:00:00",
          "2023-06-14T00:00:00",
          "2023-06-15T00:00:00",
          "2023-06-16T00:00:00",
          "2023-06-20T00:00:00",
          "2023-06-22T00:00:00",
          "2023-06-23T00:00:00",
          "2023-06-26T00:00:00",
          "2023-06-27T00:00:00",
          "2023-06-28T00:00:00",
          "2023-06-29T00:00:00",
          "2023-06-30T00:00:00",
          "2023-07-03T00:00:00",
          "2023-07-04T00:00:00",
          "2023-07-05T00:00:00"
         ],
         "y": [
          101.48322130048842,
          101.7706909376477,
          101.2381419876492,
          102.01046475705645,
          103.53290542809926,
          104.34193356073473,
          104.9421350482305,
          107.01699055163064,
          106.06088989477308,
          105.70654035306356,
          105.59246547754985,
          106.18996251739017,
          107.41015060256775,
          105.68632454545155,
          105.01376295298626,
          104.17942219065102,
          105.00285033430377,
          105.10542763832635,
          105.67528140591817,
          105.08283303510578,
          105.01035769694195,
          105.0262060839335,
          105.99304824349234,
          106.85690539182933,
          105.02129300607955,
          106.01770029033177,
          104.53493289638703,
          104.56439013394856,
          106.00354670044732,
          108.93568332670606,
          111.33217320741927,
          116.3575783721888,
          117.04580772007837,
          117.19015993106181,
          117.65272031284513,
          120.52241766080395,
          121.60577010436286,
          123.26926321971229,
          124.6363443243996,
          122.5318582208174,
          121.13433658520171,
          122.61673581072436,
          122.69757854230065,
          123.6901110579627,
          122.42425842580342,
          122.881395011039,
          124.92109938748673,
          125.60468075211844,
          126.61498321206226,
          125.22480825333369,
          122.74517287390572,
          122.85226224263506,
          122.75324948774065,
          124.14909798102903,
          122.54257521692912,
          123.60757489373945,
          125.20936737600958,
          122.99506073203915,
          121.80954178310574,
          125.22480825333369,
          122.74517287390572,
          122.85226224263506,
          122.75324948774065,
          124.14909798102903,
          122.54257521692912,
          123.60757489373945,
          125.20936737600958,
          122.99506073203915,
          121.80954178310574
         ]
        },
        {
         "mode": "lines",
         "name": "Voting Prediction",
         "type": "scatter",
         "x": [
          "2023-03-27T00:00:00",
          "2023-03-28T00:00:00",
          "2023-03-29T00:00:00",
          "2023-03-30T00:00:00",
          "2023-03-31T00:00:00",
          "2023-04-03T00:00:00",
          "2023-04-04T00:00:00",
          "2023-04-05T00:00:00",
          "2023-04-06T00:00:00",
          "2023-04-10T00:00:00",
          "2023-04-11T00:00:00",
          "2023-04-12T00:00:00",
          "2023-04-13T00:00:00",
          "2023-04-14T00:00:00",
          "2023-04-17T00:00:00",
          "2023-04-18T00:00:00",
          "2023-04-19T00:00:00",
          "2023-04-20T00:00:00",
          "2023-04-21T00:00:00",
          "2023-04-24T00:00:00",
          "2023-04-25T00:00:00",
          "2023-04-26T00:00:00",
          "2023-04-27T00:00:00",
          "2023-04-28T00:00:00",
          "2023-05-01T00:00:00",
          "2023-05-02T00:00:00",
          "2023-05-03T00:00:00",
          "2023-05-04T00:00:00",
          "2023-05-05T00:00:00",
          "2023-05-08T00:00:00",
          "2023-05-09T00:00:00",
          "2023-05-10T00:00:00",
          "2023-05-11T00:00:00",
          "2023-05-12T00:00:00",
          "2023-05-15T00:00:00",
          "2023-05-16T00:00:00",
          "2023-05-17T00:00:00",
          "2023-05-18T00:00:00",
          "2023-05-19T00:00:00",
          "2023-05-22T00:00:00",
          "2023-05-23T00:00:00",
          "2023-05-24T00:00:00",
          "2023-05-25T00:00:00",
          "2023-05-26T00:00:00",
          "2023-05-30T00:00:00",
          "2023-05-31T00:00:00",
          "2023-06-01T00:00:00",
          "2023-06-02T00:00:00",
          "2023-06-05T00:00:00",
          "2023-06-06T00:00:00",
          "2023-06-07T00:00:00",
          "2023-06-08T00:00:00",
          "2023-06-09T00:00:00",
          "2023-06-12T00:00:00",
          "2023-06-13T00:00:00",
          "2023-06-14T00:00:00",
          "2023-06-15T00:00:00",
          "2023-06-16T00:00:00",
          "2023-06-20T00:00:00",
          "2023-06-22T00:00:00",
          "2023-06-23T00:00:00",
          "2023-06-26T00:00:00",
          "2023-06-27T00:00:00",
          "2023-06-28T00:00:00",
          "2023-06-29T00:00:00",
          "2023-06-30T00:00:00",
          "2023-07-03T00:00:00",
          "2023-07-04T00:00:00",
          "2023-07-05T00:00:00"
         ],
         "y": [
          100.83857842061238,
          101.42253035428313,
          100.67508381080472,
          102.3767455000507,
          103.54702993281117,
          104.51000632384483,
          104.60178289457721,
          107.08074155909839,
          105.96823334018362,
          105.55806244646557,
          105.36502941507325,
          106.84210519687691,
          108.00576722760887,
          105.54062349882491,
          104.89055028475948,
          104.05884213297375,
          105.28660658346924,
          105.2257625333443,
          105.7835710291134,
          104.97018214916092,
          104.65036589112734,
          105.84069484248047,
          105.99990608901098,
          107.35512599283487,
          104.87152937845478,
          106.39746947716377,
          104.53410441075877,
          104.91196923628272,
          106.75409378712982,
          108.88486147344176,
          111.44953004375672,
          116.34860394524445,
          117.07242206365105,
          117.1973214080019,
          118.4725386622188,
          120.54352998312663,
          122.186151900999,
          123.65923330474214,
          124.89478818266994,
          122.72674953060002,
          120.8129845381284,
          122.80145705001718,
          123.25646116213335,
          123.31009999341529,
          122.76938330681541,
          123.27924743054794,
          124.8953837970869,
          125.78228556025631,
          126.72321227736003,
          124.58103905408446,
          122.49448565292496,
          122.85887004811612,
          122.86373988179733,
          123.88134468274652,
          122.5491413774108,
          124.02385438705232,
          124.48255190787364,
          123.24134699201002,
          121.19704028301706,
          124.58103905408446,
          122.49448565292496,
          122.85887004811612,
          122.86373988179733,
          123.88134468274652,
          122.5491413774108,
          124.02385438705232,
          124.48255190787364,
          123.24134699201002,
          121.19704028301706
         ]
        }
       ],
       "layout": {
        "showlegend": true,
        "template": {
         "data": {
          "bar": [
           {
            "error_x": {
             "color": "#2a3f5f"
            },
            "error_y": {
             "color": "#2a3f5f"
            },
            "marker": {
             "line": {
              "color": "#E5ECF6",
              "width": 0.5
             },
             "pattern": {
              "fillmode": "overlay",
              "size": 10,
              "solidity": 0.2
             }
            },
            "type": "bar"
           }
          ],
          "barpolar": [
           {
            "marker": {
             "line": {
              "color": "#E5ECF6",
              "width": 0.5
             },
             "pattern": {
              "fillmode": "overlay",
              "size": 10,
              "solidity": 0.2
             }
            },
            "type": "barpolar"
           }
          ],
          "carpet": [
           {
            "aaxis": {
             "endlinecolor": "#2a3f5f",
             "gridcolor": "white",
             "linecolor": "white",
             "minorgridcolor": "white",
             "startlinecolor": "#2a3f5f"
            },
            "baxis": {
             "endlinecolor": "#2a3f5f",
             "gridcolor": "white",
             "linecolor": "white",
             "minorgridcolor": "white",
             "startlinecolor": "#2a3f5f"
            },
            "type": "carpet"
           }
          ],
          "choropleth": [
           {
            "colorbar": {
             "outlinewidth": 0,
             "ticks": ""
            },
            "type": "choropleth"
           }
          ],
          "contour": [
           {
            "colorbar": {
             "outlinewidth": 0,
             "ticks": ""
            },
            "colorscale": [
             [
              0,
              "#0d0887"
             ],
             [
              0.1111111111111111,
              "#46039f"
             ],
             [
              0.2222222222222222,
              "#7201a8"
             ],
             [
              0.3333333333333333,
              "#9c179e"
             ],
             [
              0.4444444444444444,
              "#bd3786"
             ],
             [
              0.5555555555555556,
              "#d8576b"
             ],
             [
              0.6666666666666666,
              "#ed7953"
             ],
             [
              0.7777777777777778,
              "#fb9f3a"
             ],
             [
              0.8888888888888888,
              "#fdca26"
             ],
             [
              1,
              "#f0f921"
             ]
            ],
            "type": "contour"
           }
          ],
          "contourcarpet": [
           {
            "colorbar": {
             "outlinewidth": 0,
             "ticks": ""
            },
            "type": "contourcarpet"
           }
          ],
          "heatmap": [
           {
            "colorbar": {
             "outlinewidth": 0,
             "ticks": ""
            },
            "colorscale": [
             [
              0,
              "#0d0887"
             ],
             [
              0.1111111111111111,
              "#46039f"
             ],
             [
              0.2222222222222222,
              "#7201a8"
             ],
             [
              0.3333333333333333,
              "#9c179e"
             ],
             [
              0.4444444444444444,
              "#bd3786"
             ],
             [
              0.5555555555555556,
              "#d8576b"
             ],
             [
              0.6666666666666666,
              "#ed7953"
             ],
             [
              0.7777777777777778,
              "#fb9f3a"
             ],
             [
              0.8888888888888888,
              "#fdca26"
             ],
             [
              1,
              "#f0f921"
             ]
            ],
            "type": "heatmap"
           }
          ],
          "heatmapgl": [
           {
            "colorbar": {
             "outlinewidth": 0,
             "ticks": ""
            },
            "colorscale": [
             [
              0,
              "#0d0887"
             ],
             [
              0.1111111111111111,
              "#46039f"
             ],
             [
              0.2222222222222222,
              "#7201a8"
             ],
             [
              0.3333333333333333,
              "#9c179e"
             ],
             [
              0.4444444444444444,
              "#bd3786"
             ],
             [
              0.5555555555555556,
              "#d8576b"
             ],
             [
              0.6666666666666666,
              "#ed7953"
             ],
             [
              0.7777777777777778,
              "#fb9f3a"
             ],
             [
              0.8888888888888888,
              "#fdca26"
             ],
             [
              1,
              "#f0f921"
             ]
            ],
            "type": "heatmapgl"
           }
          ],
          "histogram": [
           {
            "marker": {
             "pattern": {
              "fillmode": "overlay",
              "size": 10,
              "solidity": 0.2
             }
            },
            "type": "histogram"
           }
          ],
          "histogram2d": [
           {
            "colorbar": {
             "outlinewidth": 0,
             "ticks": ""
            },
            "colorscale": [
             [
              0,
              "#0d0887"
             ],
             [
              0.1111111111111111,
              "#46039f"
             ],
             [
              0.2222222222222222,
              "#7201a8"
             ],
             [
              0.3333333333333333,
              "#9c179e"
             ],
             [
              0.4444444444444444,
              "#bd3786"
             ],
             [
              0.5555555555555556,
              "#d8576b"
             ],
             [
              0.6666666666666666,
              "#ed7953"
             ],
             [
              0.7777777777777778,
              "#fb9f3a"
             ],
             [
              0.8888888888888888,
              "#fdca26"
             ],
             [
              1,
              "#f0f921"
             ]
            ],
            "type": "histogram2d"
           }
          ],
          "histogram2dcontour": [
           {
            "colorbar": {
             "outlinewidth": 0,
             "ticks": ""
            },
            "colorscale": [
             [
              0,
              "#0d0887"
             ],
             [
              0.1111111111111111,
              "#46039f"
             ],
             [
              0.2222222222222222,
              "#7201a8"
             ],
             [
              0.3333333333333333,
              "#9c179e"
             ],
             [
              0.4444444444444444,
              "#bd3786"
             ],
             [
              0.5555555555555556,
              "#d8576b"
             ],
             [
              0.6666666666666666,
              "#ed7953"
             ],
             [
              0.7777777777777778,
              "#fb9f3a"
             ],
             [
              0.8888888888888888,
              "#fdca26"
             ],
             [
              1,
              "#f0f921"
             ]
            ],
            "type": "histogram2dcontour"
           }
          ],
          "mesh3d": [
           {
            "colorbar": {
             "outlinewidth": 0,
             "ticks": ""
            },
            "type": "mesh3d"
           }
          ],
          "parcoords": [
           {
            "line": {
             "colorbar": {
              "outlinewidth": 0,
              "ticks": ""
             }
            },
            "type": "parcoords"
           }
          ],
          "pie": [
           {
            "automargin": true,
            "type": "pie"
           }
          ],
          "scatter": [
           {
            "fillpattern": {
             "fillmode": "overlay",
             "size": 10,
             "solidity": 0.2
            },
            "type": "scatter"
           }
          ],
          "scatter3d": [
           {
            "line": {
             "colorbar": {
              "outlinewidth": 0,
              "ticks": ""
             }
            },
            "marker": {
             "colorbar": {
              "outlinewidth": 0,
              "ticks": ""
             }
            },
            "type": "scatter3d"
           }
          ],
          "scattercarpet": [
           {
            "marker": {
             "colorbar": {
              "outlinewidth": 0,
              "ticks": ""
             }
            },
            "type": "scattercarpet"
           }
          ],
          "scattergeo": [
           {
            "marker": {
             "colorbar": {
              "outlinewidth": 0,
              "ticks": ""
             }
            },
            "type": "scattergeo"
           }
          ],
          "scattergl": [
           {
            "marker": {
             "colorbar": {
              "outlinewidth": 0,
              "ticks": ""
             }
            },
            "type": "scattergl"
           }
          ],
          "scattermapbox": [
           {
            "marker": {
             "colorbar": {
              "outlinewidth": 0,
              "ticks": ""
             }
            },
            "type": "scattermapbox"
           }
          ],
          "scatterpolar": [
           {
            "marker": {
             "colorbar": {
              "outlinewidth": 0,
              "ticks": ""
             }
            },
            "type": "scatterpolar"
           }
          ],
          "scatterpolargl": [
           {
            "marker": {
             "colorbar": {
              "outlinewidth": 0,
              "ticks": ""
             }
            },
            "type": "scatterpolargl"
           }
          ],
          "scatterternary": [
           {
            "marker": {
             "colorbar": {
              "outlinewidth": 0,
              "ticks": ""
             }
            },
            "type": "scatterternary"
           }
          ],
          "surface": [
           {
            "colorbar": {
             "outlinewidth": 0,
             "ticks": ""
            },
            "colorscale": [
             [
              0,
              "#0d0887"
             ],
             [
              0.1111111111111111,
              "#46039f"
             ],
             [
              0.2222222222222222,
              "#7201a8"
             ],
             [
              0.3333333333333333,
              "#9c179e"
             ],
             [
              0.4444444444444444,
              "#bd3786"
             ],
             [
              0.5555555555555556,
              "#d8576b"
             ],
             [
              0.6666666666666666,
              "#ed7953"
             ],
             [
              0.7777777777777778,
              "#fb9f3a"
             ],
             [
              0.8888888888888888,
              "#fdca26"
             ],
             [
              1,
              "#f0f921"
             ]
            ],
            "type": "surface"
           }
          ],
          "table": [
           {
            "cells": {
             "fill": {
              "color": "#EBF0F8"
             },
             "line": {
              "color": "white"
             }
            },
            "header": {
             "fill": {
              "color": "#C8D4E3"
             },
             "line": {
              "color": "white"
             }
            },
            "type": "table"
           }
          ]
         },
         "layout": {
          "annotationdefaults": {
           "arrowcolor": "#2a3f5f",
           "arrowhead": 0,
           "arrowwidth": 1
          },
          "autotypenumbers": "strict",
          "coloraxis": {
           "colorbar": {
            "outlinewidth": 0,
            "ticks": ""
           }
          },
          "colorscale": {
           "diverging": [
            [
             0,
             "#8e0152"
            ],
            [
             0.1,
             "#c51b7d"
            ],
            [
             0.2,
             "#de77ae"
            ],
            [
             0.3,
             "#f1b6da"
            ],
            [
             0.4,
             "#fde0ef"
            ],
            [
             0.5,
             "#f7f7f7"
            ],
            [
             0.6,
             "#e6f5d0"
            ],
            [
             0.7,
             "#b8e186"
            ],
            [
             0.8,
             "#7fbc41"
            ],
            [
             0.9,
             "#4d9221"
            ],
            [
             1,
             "#276419"
            ]
           ],
           "sequential": [
            [
             0,
             "#0d0887"
            ],
            [
             0.1111111111111111,
             "#46039f"
            ],
            [
             0.2222222222222222,
             "#7201a8"
            ],
            [
             0.3333333333333333,
             "#9c179e"
            ],
            [
             0.4444444444444444,
             "#bd3786"
            ],
            [
             0.5555555555555556,
             "#d8576b"
            ],
            [
             0.6666666666666666,
             "#ed7953"
            ],
            [
             0.7777777777777778,
             "#fb9f3a"
            ],
            [
             0.8888888888888888,
             "#fdca26"
            ],
            [
             1,
             "#f0f921"
            ]
           ],
           "sequentialminus": [
            [
             0,
             "#0d0887"
            ],
            [
             0.1111111111111111,
             "#46039f"
            ],
            [
             0.2222222222222222,
             "#7201a8"
            ],
            [
             0.3333333333333333,
             "#9c179e"
            ],
            [
             0.4444444444444444,
             "#bd3786"
            ],
            [
             0.5555555555555556,
             "#d8576b"
            ],
            [
             0.6666666666666666,
             "#ed7953"
            ],
            [
             0.7777777777777778,
             "#fb9f3a"
            ],
            [
             0.8888888888888888,
             "#fdca26"
            ],
            [
             1,
             "#f0f921"
            ]
           ]
          },
          "colorway": [
           "#636efa",
           "#EF553B",
           "#00cc96",
           "#ab63fa",
           "#FFA15A",
           "#19d3f3",
           "#FF6692",
           "#B6E880",
           "#FF97FF",
           "#FECB52"
          ],
          "font": {
           "color": "#2a3f5f"
          },
          "geo": {
           "bgcolor": "white",
           "lakecolor": "white",
           "landcolor": "#E5ECF6",
           "showlakes": true,
           "showland": true,
           "subunitcolor": "white"
          },
          "hoverlabel": {
           "align": "left"
          },
          "hovermode": "closest",
          "mapbox": {
           "style": "light"
          },
          "paper_bgcolor": "white",
          "plot_bgcolor": "#E5ECF6",
          "polar": {
           "angularaxis": {
            "gridcolor": "white",
            "linecolor": "white",
            "ticks": ""
           },
           "bgcolor": "#E5ECF6",
           "radialaxis": {
            "gridcolor": "white",
            "linecolor": "white",
            "ticks": ""
           }
          },
          "scene": {
           "xaxis": {
            "backgroundcolor": "#E5ECF6",
            "gridcolor": "white",
            "gridwidth": 2,
            "linecolor": "white",
            "showbackground": true,
            "ticks": "",
            "zerolinecolor": "white"
           },
           "yaxis": {
            "backgroundcolor": "#E5ECF6",
            "gridcolor": "white",
            "gridwidth": 2,
            "linecolor": "white",
            "showbackground": true,
            "ticks": "",
            "zerolinecolor": "white"
           },
           "zaxis": {
            "backgroundcolor": "#E5ECF6",
            "gridcolor": "white",
            "gridwidth": 2,
            "linecolor": "white",
            "showbackground": true,
            "ticks": "",
            "zerolinecolor": "white"
           }
          },
          "shapedefaults": {
           "line": {
            "color": "#2a3f5f"
           }
          },
          "ternary": {
           "aaxis": {
            "gridcolor": "white",
            "linecolor": "white",
            "ticks": ""
           },
           "baxis": {
            "gridcolor": "white",
            "linecolor": "white",
            "ticks": ""
           },
           "bgcolor": "#E5ECF6",
           "caxis": {
            "gridcolor": "white",
            "linecolor": "white",
            "ticks": ""
           }
          },
          "title": {
           "x": 0.05
          },
          "xaxis": {
           "automargin": true,
           "gridcolor": "white",
           "linecolor": "white",
           "ticks": "",
           "title": {
            "standoff": 15
           },
           "zerolinecolor": "white",
           "zerolinewidth": 2
          },
          "yaxis": {
           "automargin": true,
           "gridcolor": "white",
           "linecolor": "white",
           "ticks": "",
           "title": {
            "standoff": 15
           },
           "zerolinecolor": "white",
           "zerolinewidth": 2
          }
         }
        },
        "title": {
         "text": "Actual Price and Predictions"
        },
        "xaxis": {
         "title": {
          "text": "Date"
         }
        },
        "yaxis": {
         "title": {
          "text": "Price"
         }
        }
       }
      }
     },
     "metadata": {},
     "output_type": "display_data"
    }
   ],
   "source": [
    "import plotly.graph_objects as go\n",
    "\n",
    "# Create traces\n",
    "trace_actual = go.Scatter(\n",
    "    x=df_combined2.index,\n",
    "    y=df_combined2['Close'],\n",
    "    mode='lines',\n",
    "    name='Historical'\n",
    ")\n",
    "\n",
    "trace_svr = go.Scatter(\n",
    "    x=df_combined2.index,\n",
    "    y=df_combined2['SVR Prediction'],\n",
    "    mode='lines',\n",
    "    name='SVR Prediction'\n",
    ")\n",
    "\n",
    "trace_rfr = go.Scatter(\n",
    "    x=df_combined2.index,\n",
    "    y=df_combined2['RFR Prediction'],\n",
    "    mode='lines',\n",
    "    name='RFR Prediction'\n",
    ")\n",
    "\n",
    "trace_voting = go.Scatter(\n",
    "    x=df_combined2.index,\n",
    "    y=df_combined2['Voting Prediction'],\n",
    "    mode='lines',\n",
    "    name='Voting Prediction'\n",
    ")\n",
    "\n",
    "data = [trace_actual, trace_svr, trace_rfr, trace_voting]\n",
    "\n",
    "# Create layout\n",
    "layout = go.Layout(\n",
    "    title='Actual Price and Predictions',\n",
    "    xaxis=dict(title='Date'),\n",
    "    yaxis=dict(title='Price'),\n",
    "    showlegend=True\n",
    ")\n",
    "\n",
    "# Create figure\n",
    "fig = go.Figure(data=data, layout=layout)\n",
    "\n",
    "# Show the figure\n",
    "fig.show()\n"
   ]
  },
  {
   "cell_type": "code",
   "execution_count": 25,
   "metadata": {},
   "outputs": [],
   "source": [
    "import pickle\n",
    "\n",
    "with open('../dashboard/models/google/rfr.pkl', 'wb') as f:\n",
    "    pickle.dump(rfr_model, f)\n",
    "\n",
    "with open('../dashboard/models/google/svr.pkl', 'wb') as f:\n",
    "    pickle.dump(svr_model, f)\n",
    "\n",
    "with open('../dashboard/models/google/voting.pkl', 'wb') as f:\n",
    "    pickle.dump(voting_model, f)\n",
    "\n",
    "with open('../dashboard/models/google/scaler.pkl', 'wb') as f:\n",
    "    pickle.dump(scaler, f)\n",
    "\n",
    "df.to_csv('../dashboard/models/google/df.csv', index=True)\n",
    "X.to_csv('../dashboard/models/google/X.csv', index=True)"
   ]
  }
 ],
 "metadata": {
  "kernelspec": {
   "display_name": ".venv",
   "language": "python",
   "name": "python3"
  },
  "language_info": {
   "codemirror_mode": {
    "name": "ipython",
    "version": 3
   },
   "file_extension": ".py",
   "mimetype": "text/x-python",
   "name": "python",
   "nbconvert_exporter": "python",
   "pygments_lexer": "ipython3",
   "version": "3.10.11"
  },
  "orig_nbformat": 4
 },
 "nbformat": 4,
 "nbformat_minor": 2
}

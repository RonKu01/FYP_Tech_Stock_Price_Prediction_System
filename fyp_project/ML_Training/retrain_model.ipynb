{
 "cells": [
  {
   "cell_type": "code",
   "execution_count": 1,
   "metadata": {},
   "outputs": [
    {
     "name": "stdout",
     "output_type": "stream",
     "text": [
      "Successful refresh model for google.ipynb\n",
      "Successful refresh model for apple.ipynb\n",
      "Successful refresh model for microsoft.ipynb\n"
     ]
    }
   ],
   "source": [
    "import nbformat\n",
    "from nbclient import NotebookClient\n",
    "\n",
    "notebooks = [\"google.ipynb\", \"apple.ipynb\", \"microsoft.ipynb\"]\n",
    "\n",
    "for notebook_file in notebooks:\n",
    "    with open(notebook_file, encoding=\"utf-8\") as f:\n",
    "        nb = nbformat.read(f, as_version=4)\n",
    "\n",
    "    client = NotebookClient(nb)\n",
    "    client.execute()\n",
    "\n",
    "    print(\"Successful refresh model for\", notebook_file)\n"
   ]
  }
 ],
 "metadata": {
  "kernelspec": {
   "display_name": "Python 3",
   "language": "python",
   "name": "python3"
  },
  "language_info": {
   "codemirror_mode": {
    "name": "ipython",
    "version": 3
   },
   "file_extension": ".py",
   "mimetype": "text/x-python",
   "name": "python",
   "nbconvert_exporter": "python",
   "pygments_lexer": "ipython3",
   "version": "3.10.11"
  },
  "orig_nbformat": 4
 },
 "nbformat": 4,
 "nbformat_minor": 2
}

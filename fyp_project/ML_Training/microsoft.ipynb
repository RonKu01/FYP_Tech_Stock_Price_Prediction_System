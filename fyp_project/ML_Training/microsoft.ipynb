{
 "cells": [
  {
   "attachments": {},
   "cell_type": "markdown",
   "metadata": {},
   "source": [
    "# Importing Libraries"
   ]
  },
  {
   "cell_type": "code",
   "execution_count": 1,
   "metadata": {},
   "outputs": [],
   "source": [
    "import pandas as pd\n",
    "import numpy as np\n",
    "import seaborn as sns\n",
    "import matplotlib.pyplot as plt\n",
    "import yfinance as yf\n",
    "import ta\n",
    "from tabulate import tabulate\n",
    "from datetime import date\n",
    "\n",
    "from sklearn.model_selection import train_test_split, cross_val_score, GridSearchCV\n",
    "from sklearn.metrics import mean_absolute_error, mean_squared_error, r2_score\n",
    "from sklearn.preprocessing import MinMaxScaler\n",
    "from sklearn.ensemble import RandomForestRegressor\n",
    "from sklearn.svm import SVR"
   ]
  },
  {
   "attachments": {},
   "cell_type": "markdown",
   "metadata": {},
   "source": [
    "# Data Preparation and Feature Engineering"
   ]
  },
  {
   "attachments": {},
   "cell_type": "markdown",
   "metadata": {},
   "source": [
    "## Data Collection"
   ]
  },
  {
   "cell_type": "code",
   "execution_count": 2,
   "metadata": {},
   "outputs": [],
   "source": [
    "# Download historical price data from Yahoo Finance and store it in a pandas DataFrame\n",
    "df = yf.download(\"MSFT\", start='2020-01-01', end=date.today(), progress=False)"
   ]
  },
  {
   "attachments": {},
   "cell_type": "markdown",
   "metadata": {},
   "source": [
    "## Adding Technical Indicators"
   ]
  },
  {
   "cell_type": "code",
   "execution_count": 3,
   "metadata": {},
   "outputs": [],
   "source": [
    "# Add technical indicators\n",
    "df['SMA_10'] = ta.trend.SMAIndicator(df['Close'], window=10).sma_indicator()\n",
    "df['EMA_10'] = ta.trend.EMAIndicator(df['Close'], window=10).ema_indicator()\n",
    "df['RSI'] = ta.momentum.RSIIndicator(df['Close'], window=10).rsi()\n",
    "macd = ta.trend.MACD(df['Close'], window_slow=26, window_fast=12, window_sign=9)\n",
    "df['MACD'] = macd.macd()\n",
    "df['MACD_Signal'] = macd.macd_signal()"
   ]
  },
  {
   "attachments": {},
   "cell_type": "markdown",
   "metadata": {},
   "source": [
    "## Adding Lag Features"
   ]
  },
  {
   "cell_type": "code",
   "execution_count": 4,
   "metadata": {},
   "outputs": [],
   "source": [
    "# Add lag features, remove missing values, and scale the features\n",
    "lag_periods = 10  # Number of lag periods for the lag features\n",
    "for i in range(1, lag_periods + 1):\n",
    "    df[f'lag_{i}'] = df['Close'].shift(i).values.copy()"
   ]
  },
  {
   "attachments": {},
   "cell_type": "markdown",
   "metadata": {},
   "source": [
    "## Removing Missing Values"
   ]
  },
  {
   "cell_type": "code",
   "execution_count": 5,
   "metadata": {},
   "outputs": [],
   "source": [
    "df.dropna(inplace=True)"
   ]
  },
  {
   "attachments": {},
   "cell_type": "markdown",
   "metadata": {},
   "source": [
    "# Model Training and Evaluation"
   ]
  },
  {
   "cell_type": "code",
   "execution_count": 6,
   "metadata": {},
   "outputs": [],
   "source": [
    "# Define independent variables (features) and target variable\n",
    "X = df.drop(['Close', 'Adj Close'], axis=1)\n",
    "y = df['Close']\n",
    "\n",
    "# # Perform feature selection by selecting features with a correlation coefficient of at least 0.5 with the target variable\n",
    "corr = X.corrwith(y)\n",
    "corr_threshold = 0.5\n",
    "selected_features = corr[abs(corr) > corr_threshold].index.tolist()\n",
    "X = X[selected_features]"
   ]
  },
  {
   "attachments": {},
   "cell_type": "markdown",
   "metadata": {},
   "source": [
    "## Splitting Data into Training and Testing Sets"
   ]
  },
  {
   "cell_type": "code",
   "execution_count": 7,
   "metadata": {},
   "outputs": [],
   "source": [
    "# Split the data into training and testing sets\n",
    "X_train, X_test, y_train, y_test = train_test_split(X, y, test_size=0.2, random_state=10, shuffle=False)"
   ]
  },
  {
   "attachments": {},
   "cell_type": "markdown",
   "metadata": {},
   "source": [
    "## Feature Scaling"
   ]
  },
  {
   "cell_type": "code",
   "execution_count": 8,
   "metadata": {},
   "outputs": [],
   "source": [
    "# Preprocess the data by scaling it\n",
    "scaler = MinMaxScaler()\n",
    "X_train_scaled = scaler.fit_transform(X_train)\n",
    "X_test_scaled = scaler.transform(X_test)"
   ]
  },
  {
   "attachments": {},
   "cell_type": "markdown",
   "metadata": {},
   "source": [
    "## Training Support Vector Regression (SVR) Model"
   ]
  },
  {
   "cell_type": "code",
   "execution_count": 9,
   "metadata": {},
   "outputs": [
    {
     "data": {
      "text/html": [
       "<style>#sk-container-id-1 {color: black;background-color: white;}#sk-container-id-1 pre{padding: 0;}#sk-container-id-1 div.sk-toggleable {background-color: white;}#sk-container-id-1 label.sk-toggleable__label {cursor: pointer;display: block;width: 100%;margin-bottom: 0;padding: 0.3em;box-sizing: border-box;text-align: center;}#sk-container-id-1 label.sk-toggleable__label-arrow:before {content: \"▸\";float: left;margin-right: 0.25em;color: #696969;}#sk-container-id-1 label.sk-toggleable__label-arrow:hover:before {color: black;}#sk-container-id-1 div.sk-estimator:hover label.sk-toggleable__label-arrow:before {color: black;}#sk-container-id-1 div.sk-toggleable__content {max-height: 0;max-width: 0;overflow: hidden;text-align: left;background-color: #f0f8ff;}#sk-container-id-1 div.sk-toggleable__content pre {margin: 0.2em;color: black;border-radius: 0.25em;background-color: #f0f8ff;}#sk-container-id-1 input.sk-toggleable__control:checked~div.sk-toggleable__content {max-height: 200px;max-width: 100%;overflow: auto;}#sk-container-id-1 input.sk-toggleable__control:checked~label.sk-toggleable__label-arrow:before {content: \"▾\";}#sk-container-id-1 div.sk-estimator input.sk-toggleable__control:checked~label.sk-toggleable__label {background-color: #d4ebff;}#sk-container-id-1 div.sk-label input.sk-toggleable__control:checked~label.sk-toggleable__label {background-color: #d4ebff;}#sk-container-id-1 input.sk-hidden--visually {border: 0;clip: rect(1px 1px 1px 1px);clip: rect(1px, 1px, 1px, 1px);height: 1px;margin: -1px;overflow: hidden;padding: 0;position: absolute;width: 1px;}#sk-container-id-1 div.sk-estimator {font-family: monospace;background-color: #f0f8ff;border: 1px dotted black;border-radius: 0.25em;box-sizing: border-box;margin-bottom: 0.5em;}#sk-container-id-1 div.sk-estimator:hover {background-color: #d4ebff;}#sk-container-id-1 div.sk-parallel-item::after {content: \"\";width: 100%;border-bottom: 1px solid gray;flex-grow: 1;}#sk-container-id-1 div.sk-label:hover label.sk-toggleable__label {background-color: #d4ebff;}#sk-container-id-1 div.sk-serial::before {content: \"\";position: absolute;border-left: 1px solid gray;box-sizing: border-box;top: 0;bottom: 0;left: 50%;z-index: 0;}#sk-container-id-1 div.sk-serial {display: flex;flex-direction: column;align-items: center;background-color: white;padding-right: 0.2em;padding-left: 0.2em;position: relative;}#sk-container-id-1 div.sk-item {position: relative;z-index: 1;}#sk-container-id-1 div.sk-parallel {display: flex;align-items: stretch;justify-content: center;background-color: white;position: relative;}#sk-container-id-1 div.sk-item::before, #sk-container-id-1 div.sk-parallel-item::before {content: \"\";position: absolute;border-left: 1px solid gray;box-sizing: border-box;top: 0;bottom: 0;left: 50%;z-index: -1;}#sk-container-id-1 div.sk-parallel-item {display: flex;flex-direction: column;z-index: 1;position: relative;background-color: white;}#sk-container-id-1 div.sk-parallel-item:first-child::after {align-self: flex-end;width: 50%;}#sk-container-id-1 div.sk-parallel-item:last-child::after {align-self: flex-start;width: 50%;}#sk-container-id-1 div.sk-parallel-item:only-child::after {width: 0;}#sk-container-id-1 div.sk-dashed-wrapped {border: 1px dashed gray;margin: 0 0.4em 0.5em 0.4em;box-sizing: border-box;padding-bottom: 0.4em;background-color: white;}#sk-container-id-1 div.sk-label label {font-family: monospace;font-weight: bold;display: inline-block;line-height: 1.2em;}#sk-container-id-1 div.sk-label-container {text-align: center;}#sk-container-id-1 div.sk-container {/* jupyter's `normalize.less` sets `[hidden] { display: none; }` but bootstrap.min.css set `[hidden] { display: none !important; }` so we also need the `!important` here to be able to override the default hidden behavior on the sphinx rendered scikit-learn.org. See: https://github.com/scikit-learn/scikit-learn/issues/21755 */display: inline-block !important;position: relative;}#sk-container-id-1 div.sk-text-repr-fallback {display: none;}</style><div id=\"sk-container-id-1\" class=\"sk-top-container\"><div class=\"sk-text-repr-fallback\"><pre>SVR()</pre><b>In a Jupyter environment, please rerun this cell to show the HTML representation or trust the notebook. <br />On GitHub, the HTML representation is unable to render, please try loading this page with nbviewer.org.</b></div><div class=\"sk-container\" hidden><div class=\"sk-item\"><div class=\"sk-estimator sk-toggleable\"><input class=\"sk-toggleable__control sk-hidden--visually\" id=\"sk-estimator-id-1\" type=\"checkbox\" checked><label for=\"sk-estimator-id-1\" class=\"sk-toggleable__label sk-toggleable__label-arrow\">SVR</label><div class=\"sk-toggleable__content\"><pre>SVR()</pre></div></div></div></div></div>"
      ],
      "text/plain": [
       "SVR()"
      ]
     },
     "execution_count": 9,
     "metadata": {},
     "output_type": "execute_result"
    }
   ],
   "source": [
    "# Build SVR model\n",
    "svr_model = SVR()\n",
    "svr_model.fit(X_train_scaled, y_train)\n"
   ]
  },
  {
   "attachments": {},
   "cell_type": "markdown",
   "metadata": {},
   "source": [
    "## Training Random Forest Regression (RFR) Model"
   ]
  },
  {
   "cell_type": "code",
   "execution_count": 10,
   "metadata": {},
   "outputs": [
    {
     "data": {
      "text/html": [
       "<style>#sk-container-id-2 {color: black;background-color: white;}#sk-container-id-2 pre{padding: 0;}#sk-container-id-2 div.sk-toggleable {background-color: white;}#sk-container-id-2 label.sk-toggleable__label {cursor: pointer;display: block;width: 100%;margin-bottom: 0;padding: 0.3em;box-sizing: border-box;text-align: center;}#sk-container-id-2 label.sk-toggleable__label-arrow:before {content: \"▸\";float: left;margin-right: 0.25em;color: #696969;}#sk-container-id-2 label.sk-toggleable__label-arrow:hover:before {color: black;}#sk-container-id-2 div.sk-estimator:hover label.sk-toggleable__label-arrow:before {color: black;}#sk-container-id-2 div.sk-toggleable__content {max-height: 0;max-width: 0;overflow: hidden;text-align: left;background-color: #f0f8ff;}#sk-container-id-2 div.sk-toggleable__content pre {margin: 0.2em;color: black;border-radius: 0.25em;background-color: #f0f8ff;}#sk-container-id-2 input.sk-toggleable__control:checked~div.sk-toggleable__content {max-height: 200px;max-width: 100%;overflow: auto;}#sk-container-id-2 input.sk-toggleable__control:checked~label.sk-toggleable__label-arrow:before {content: \"▾\";}#sk-container-id-2 div.sk-estimator input.sk-toggleable__control:checked~label.sk-toggleable__label {background-color: #d4ebff;}#sk-container-id-2 div.sk-label input.sk-toggleable__control:checked~label.sk-toggleable__label {background-color: #d4ebff;}#sk-container-id-2 input.sk-hidden--visually {border: 0;clip: rect(1px 1px 1px 1px);clip: rect(1px, 1px, 1px, 1px);height: 1px;margin: -1px;overflow: hidden;padding: 0;position: absolute;width: 1px;}#sk-container-id-2 div.sk-estimator {font-family: monospace;background-color: #f0f8ff;border: 1px dotted black;border-radius: 0.25em;box-sizing: border-box;margin-bottom: 0.5em;}#sk-container-id-2 div.sk-estimator:hover {background-color: #d4ebff;}#sk-container-id-2 div.sk-parallel-item::after {content: \"\";width: 100%;border-bottom: 1px solid gray;flex-grow: 1;}#sk-container-id-2 div.sk-label:hover label.sk-toggleable__label {background-color: #d4ebff;}#sk-container-id-2 div.sk-serial::before {content: \"\";position: absolute;border-left: 1px solid gray;box-sizing: border-box;top: 0;bottom: 0;left: 50%;z-index: 0;}#sk-container-id-2 div.sk-serial {display: flex;flex-direction: column;align-items: center;background-color: white;padding-right: 0.2em;padding-left: 0.2em;position: relative;}#sk-container-id-2 div.sk-item {position: relative;z-index: 1;}#sk-container-id-2 div.sk-parallel {display: flex;align-items: stretch;justify-content: center;background-color: white;position: relative;}#sk-container-id-2 div.sk-item::before, #sk-container-id-2 div.sk-parallel-item::before {content: \"\";position: absolute;border-left: 1px solid gray;box-sizing: border-box;top: 0;bottom: 0;left: 50%;z-index: -1;}#sk-container-id-2 div.sk-parallel-item {display: flex;flex-direction: column;z-index: 1;position: relative;background-color: white;}#sk-container-id-2 div.sk-parallel-item:first-child::after {align-self: flex-end;width: 50%;}#sk-container-id-2 div.sk-parallel-item:last-child::after {align-self: flex-start;width: 50%;}#sk-container-id-2 div.sk-parallel-item:only-child::after {width: 0;}#sk-container-id-2 div.sk-dashed-wrapped {border: 1px dashed gray;margin: 0 0.4em 0.5em 0.4em;box-sizing: border-box;padding-bottom: 0.4em;background-color: white;}#sk-container-id-2 div.sk-label label {font-family: monospace;font-weight: bold;display: inline-block;line-height: 1.2em;}#sk-container-id-2 div.sk-label-container {text-align: center;}#sk-container-id-2 div.sk-container {/* jupyter's `normalize.less` sets `[hidden] { display: none; }` but bootstrap.min.css set `[hidden] { display: none !important; }` so we also need the `!important` here to be able to override the default hidden behavior on the sphinx rendered scikit-learn.org. See: https://github.com/scikit-learn/scikit-learn/issues/21755 */display: inline-block !important;position: relative;}#sk-container-id-2 div.sk-text-repr-fallback {display: none;}</style><div id=\"sk-container-id-2\" class=\"sk-top-container\"><div class=\"sk-text-repr-fallback\"><pre>RandomForestRegressor()</pre><b>In a Jupyter environment, please rerun this cell to show the HTML representation or trust the notebook. <br />On GitHub, the HTML representation is unable to render, please try loading this page with nbviewer.org.</b></div><div class=\"sk-container\" hidden><div class=\"sk-item\"><div class=\"sk-estimator sk-toggleable\"><input class=\"sk-toggleable__control sk-hidden--visually\" id=\"sk-estimator-id-2\" type=\"checkbox\" checked><label for=\"sk-estimator-id-2\" class=\"sk-toggleable__label sk-toggleable__label-arrow\">RandomForestRegressor</label><div class=\"sk-toggleable__content\"><pre>RandomForestRegressor()</pre></div></div></div></div></div>"
      ],
      "text/plain": [
       "RandomForestRegressor()"
      ]
     },
     "execution_count": 10,
     "metadata": {},
     "output_type": "execute_result"
    }
   ],
   "source": [
    "# Build RFR model\n",
    "rfr_model = RandomForestRegressor()\n",
    "rfr_model.fit(X_train_scaled, y_train)"
   ]
  },
  {
   "attachments": {},
   "cell_type": "markdown",
   "metadata": {},
   "source": [
    "## Evaluating SVR & RFR Model Performance"
   ]
  },
  {
   "cell_type": "code",
   "execution_count": 11,
   "metadata": {},
   "outputs": [
    {
     "name": "stdout",
     "output_type": "stream",
     "text": [
      "╒═════════╤══════════════╤═════════════╤═══════════════╤══════════════╤═══════════════╤══════════════╕\n",
      "│ Model   │   R² (Train) │   R² (Test) │   MSE (Train) │   MSE (Test) │   MAE (Train) │   MAE (Test) │\n",
      "╞═════════╪══════════════╪═════════════╪═══════════════╪══════════════╪═══════════════╪══════════════╡\n",
      "│ SVR     │     0.938076 │    0.91663  │     138.657   │     93.5289  │      6.90716  │      6.46603 │\n",
      "├─────────┼──────────────┼─────────────┼───────────────┼──────────────┼───────────────┼──────────────┤\n",
      "│ RFR     │     0.999599 │    0.995206 │       0.89723 │      5.37868 │      0.696439 │      1.82387 │\n",
      "╘═════════╧══════════════╧═════════════╧═══════════════╧══════════════╧═══════════════╧══════════════╛\n"
     ]
    }
   ],
   "source": [
    "# Evaluate SVR model on training set\n",
    "y_svr_pred_train = svr_model.predict(X_train_scaled)\n",
    "r2_svr_train = r2_score(y_train, y_svr_pred_train)\n",
    "mse_svr_train = mean_squared_error(y_train, y_svr_pred_train)\n",
    "mae_svr_train = mean_absolute_error(y_train, y_svr_pred_train)\n",
    "\n",
    "# Evaluate SVR model on testing set\n",
    "y_svr_pred_test = svr_model.predict(X_test_scaled)\n",
    "r2_svr_test = r2_score(y_test, y_svr_pred_test)\n",
    "mse_svr_test = mean_squared_error(y_test, y_svr_pred_test)\n",
    "mae_svr_test = mean_absolute_error(y_test, y_svr_pred_test)\n",
    "\n",
    "# Evaluate RFR model on training set\n",
    "y_rfr_pred_train = rfr_model.predict(X_train_scaled)\n",
    "r2_rfr_train = r2_score(y_train, y_rfr_pred_train)\n",
    "mse_rfr_train = mean_squared_error(y_train, y_rfr_pred_train)\n",
    "mae_rfr_train = mean_absolute_error(y_train, y_rfr_pred_train)\n",
    "\n",
    "# Evaluate RFR model on testing set\n",
    "y_rfr_pred_test = rfr_model.predict(X_test_scaled)\n",
    "r2_rfr_test = r2_score(y_test, y_rfr_pred_test)\n",
    "mse_rfr_test = mean_squared_error(y_test, y_rfr_pred_test)\n",
    "mae_rfr_test = mean_absolute_error(y_test, y_rfr_pred_test)\n",
    "\n",
    "# Create a table to display the evaluation metrics for SVR and RFR models\n",
    "svr_result = [\"SVR\", r2_svr_train, r2_svr_test, mse_svr_train, mse_svr_test, mae_svr_train, mae_svr_test]\n",
    "rfr_result = [\"RFR\", r2_rfr_train, r2_rfr_test, mse_rfr_train, mse_rfr_test, mae_rfr_train, mae_rfr_test]\n",
    "result_table = [svr_result, rfr_result]\n",
    "headers = [\"Model\", \"R² (Train)\", \"R² (Test)\", \"MSE (Train)\", \"MSE (Test)\", \"MAE (Train)\", \"MAE (Test)\"]\n",
    "\n",
    "# Print the evaluation metrics table\n",
    "print(tabulate(result_table, headers=headers, tablefmt=\"fancy_grid\"))\n"
   ]
  },
  {
   "attachments": {},
   "cell_type": "markdown",
   "metadata": {},
   "source": [
    "# Hyperparameter Tuning"
   ]
  },
  {
   "attachments": {},
   "cell_type": "markdown",
   "metadata": {},
   "source": [
    "## Defining Parameter Grids for SVR and RFR Models"
   ]
  },
  {
   "cell_type": "code",
   "execution_count": 12,
   "metadata": {},
   "outputs": [],
   "source": [
    "# Define the parameter grid to search over for SVR model\n",
    "param_grid_svr = {\n",
    "    'kernel': ['linear', 'poly', 'rbf'],\n",
    "    'C': [0.1, 1, 10, 100],\n",
    "    'gamma': ['auto', 'scale'],\n",
    "}\n",
    "\n",
    "# Define the parameter grid to search over for RFR model\n",
    "param_grid_rfr = {\n",
    "    'n_estimators': [100, 200, 300],\n",
    "    'max_depth': [None, 10, 20],\n",
    "    'min_samples_split': [2, 5, 10],\n",
    "    'min_samples_leaf': [1, 2, 4],\n",
    "}"
   ]
  },
  {
   "attachments": {},
   "cell_type": "markdown",
   "metadata": {},
   "source": [
    "## Performing Grid Search for SVR Model"
   ]
  },
  {
   "cell_type": "code",
   "execution_count": 13,
   "metadata": {},
   "outputs": [],
   "source": [
    "# Create a GridSearchCV object with the parameter grid and the SVR model\n",
    "grid_search_svr = GridSearchCV(\n",
    "    estimator=SVR(),\n",
    "    param_grid=param_grid_svr,\n",
    "    cv=5,\n",
    "    scoring='r2', \n",
    ")\n",
    "\n",
    "# Fit the GridSearchCV object to the training data\n",
    "grid_search_svr.fit(X_train_scaled, y_train)\n",
    "\n",
    "# Get the best SVR model\n",
    "svr_model = grid_search_svr.best_estimator_"
   ]
  },
  {
   "attachments": {},
   "cell_type": "markdown",
   "metadata": {},
   "source": [
    "## Performing Grid Search for RFR Model"
   ]
  },
  {
   "cell_type": "code",
   "execution_count": 14,
   "metadata": {},
   "outputs": [],
   "source": [
    "# Create a GridSearchCV object with the parameter grid and the RFR model\n",
    "grid_search_rfr = GridSearchCV(\n",
    "    estimator=RandomForestRegressor(),\n",
    "    param_grid=param_grid_rfr,\n",
    "    cv=5,\n",
    "    scoring='r2',\n",
    ")\n",
    "\n",
    "# Fit the GridSearchCV object to the training data\n",
    "grid_search_rfr.fit(X_train_scaled, y_train)\n",
    "\n",
    "# Get the best RFR model\n",
    "rfr_model = grid_search_rfr.best_estimator_"
   ]
  },
  {
   "attachments": {},
   "cell_type": "markdown",
   "metadata": {},
   "source": [
    "# Voting Regressor"
   ]
  },
  {
   "attachments": {},
   "cell_type": "markdown",
   "metadata": {},
   "source": [
    "## Creating a Voting Regressor with SVR and RFR Models"
   ]
  },
  {
   "cell_type": "code",
   "execution_count": 15,
   "metadata": {},
   "outputs": [],
   "source": [
    "from sklearn.ensemble import VotingRegressor\n",
    "\n",
    "# Define the ensemble classifier using a VotingClassifier\n",
    "voting_model = VotingRegressor(\n",
    "    estimators=[('svm', svr_model), ('rfc', rfr_model)])"
   ]
  },
  {
   "attachments": {},
   "cell_type": "markdown",
   "metadata": {},
   "source": [
    "## Training Voting Regressor"
   ]
  },
  {
   "cell_type": "code",
   "execution_count": 16,
   "metadata": {},
   "outputs": [
    {
     "data": {
      "text/html": [
       "<style>#sk-container-id-3 {color: black;background-color: white;}#sk-container-id-3 pre{padding: 0;}#sk-container-id-3 div.sk-toggleable {background-color: white;}#sk-container-id-3 label.sk-toggleable__label {cursor: pointer;display: block;width: 100%;margin-bottom: 0;padding: 0.3em;box-sizing: border-box;text-align: center;}#sk-container-id-3 label.sk-toggleable__label-arrow:before {content: \"▸\";float: left;margin-right: 0.25em;color: #696969;}#sk-container-id-3 label.sk-toggleable__label-arrow:hover:before {color: black;}#sk-container-id-3 div.sk-estimator:hover label.sk-toggleable__label-arrow:before {color: black;}#sk-container-id-3 div.sk-toggleable__content {max-height: 0;max-width: 0;overflow: hidden;text-align: left;background-color: #f0f8ff;}#sk-container-id-3 div.sk-toggleable__content pre {margin: 0.2em;color: black;border-radius: 0.25em;background-color: #f0f8ff;}#sk-container-id-3 input.sk-toggleable__control:checked~div.sk-toggleable__content {max-height: 200px;max-width: 100%;overflow: auto;}#sk-container-id-3 input.sk-toggleable__control:checked~label.sk-toggleable__label-arrow:before {content: \"▾\";}#sk-container-id-3 div.sk-estimator input.sk-toggleable__control:checked~label.sk-toggleable__label {background-color: #d4ebff;}#sk-container-id-3 div.sk-label input.sk-toggleable__control:checked~label.sk-toggleable__label {background-color: #d4ebff;}#sk-container-id-3 input.sk-hidden--visually {border: 0;clip: rect(1px 1px 1px 1px);clip: rect(1px, 1px, 1px, 1px);height: 1px;margin: -1px;overflow: hidden;padding: 0;position: absolute;width: 1px;}#sk-container-id-3 div.sk-estimator {font-family: monospace;background-color: #f0f8ff;border: 1px dotted black;border-radius: 0.25em;box-sizing: border-box;margin-bottom: 0.5em;}#sk-container-id-3 div.sk-estimator:hover {background-color: #d4ebff;}#sk-container-id-3 div.sk-parallel-item::after {content: \"\";width: 100%;border-bottom: 1px solid gray;flex-grow: 1;}#sk-container-id-3 div.sk-label:hover label.sk-toggleable__label {background-color: #d4ebff;}#sk-container-id-3 div.sk-serial::before {content: \"\";position: absolute;border-left: 1px solid gray;box-sizing: border-box;top: 0;bottom: 0;left: 50%;z-index: 0;}#sk-container-id-3 div.sk-serial {display: flex;flex-direction: column;align-items: center;background-color: white;padding-right: 0.2em;padding-left: 0.2em;position: relative;}#sk-container-id-3 div.sk-item {position: relative;z-index: 1;}#sk-container-id-3 div.sk-parallel {display: flex;align-items: stretch;justify-content: center;background-color: white;position: relative;}#sk-container-id-3 div.sk-item::before, #sk-container-id-3 div.sk-parallel-item::before {content: \"\";position: absolute;border-left: 1px solid gray;box-sizing: border-box;top: 0;bottom: 0;left: 50%;z-index: -1;}#sk-container-id-3 div.sk-parallel-item {display: flex;flex-direction: column;z-index: 1;position: relative;background-color: white;}#sk-container-id-3 div.sk-parallel-item:first-child::after {align-self: flex-end;width: 50%;}#sk-container-id-3 div.sk-parallel-item:last-child::after {align-self: flex-start;width: 50%;}#sk-container-id-3 div.sk-parallel-item:only-child::after {width: 0;}#sk-container-id-3 div.sk-dashed-wrapped {border: 1px dashed gray;margin: 0 0.4em 0.5em 0.4em;box-sizing: border-box;padding-bottom: 0.4em;background-color: white;}#sk-container-id-3 div.sk-label label {font-family: monospace;font-weight: bold;display: inline-block;line-height: 1.2em;}#sk-container-id-3 div.sk-label-container {text-align: center;}#sk-container-id-3 div.sk-container {/* jupyter's `normalize.less` sets `[hidden] { display: none; }` but bootstrap.min.css set `[hidden] { display: none !important; }` so we also need the `!important` here to be able to override the default hidden behavior on the sphinx rendered scikit-learn.org. See: https://github.com/scikit-learn/scikit-learn/issues/21755 */display: inline-block !important;position: relative;}#sk-container-id-3 div.sk-text-repr-fallback {display: none;}</style><div id=\"sk-container-id-3\" class=\"sk-top-container\"><div class=\"sk-text-repr-fallback\"><pre>VotingRegressor(estimators=[(&#x27;svm&#x27;, SVR(C=100, gamma=&#x27;auto&#x27;, kernel=&#x27;linear&#x27;)),\n",
       "                            (&#x27;rfc&#x27;,\n",
       "                             RandomForestRegressor(max_depth=20,\n",
       "                                                   min_samples_leaf=2,\n",
       "                                                   n_estimators=200))])</pre><b>In a Jupyter environment, please rerun this cell to show the HTML representation or trust the notebook. <br />On GitHub, the HTML representation is unable to render, please try loading this page with nbviewer.org.</b></div><div class=\"sk-container\" hidden><div class=\"sk-item sk-dashed-wrapped\"><div class=\"sk-label-container\"><div class=\"sk-label sk-toggleable\"><input class=\"sk-toggleable__control sk-hidden--visually\" id=\"sk-estimator-id-3\" type=\"checkbox\" ><label for=\"sk-estimator-id-3\" class=\"sk-toggleable__label sk-toggleable__label-arrow\">VotingRegressor</label><div class=\"sk-toggleable__content\"><pre>VotingRegressor(estimators=[(&#x27;svm&#x27;, SVR(C=100, gamma=&#x27;auto&#x27;, kernel=&#x27;linear&#x27;)),\n",
       "                            (&#x27;rfc&#x27;,\n",
       "                             RandomForestRegressor(max_depth=20,\n",
       "                                                   min_samples_leaf=2,\n",
       "                                                   n_estimators=200))])</pre></div></div></div><div class=\"sk-parallel\"><div class=\"sk-parallel-item\"><div class=\"sk-item\"><div class=\"sk-label-container\"><div class=\"sk-label sk-toggleable\"><label>svm</label></div></div><div class=\"sk-serial\"><div class=\"sk-item\"><div class=\"sk-estimator sk-toggleable\"><input class=\"sk-toggleable__control sk-hidden--visually\" id=\"sk-estimator-id-4\" type=\"checkbox\" ><label for=\"sk-estimator-id-4\" class=\"sk-toggleable__label sk-toggleable__label-arrow\">SVR</label><div class=\"sk-toggleable__content\"><pre>SVR(C=100, gamma=&#x27;auto&#x27;, kernel=&#x27;linear&#x27;)</pre></div></div></div></div></div></div><div class=\"sk-parallel-item\"><div class=\"sk-item\"><div class=\"sk-label-container\"><div class=\"sk-label sk-toggleable\"><label>rfc</label></div></div><div class=\"sk-serial\"><div class=\"sk-item\"><div class=\"sk-estimator sk-toggleable\"><input class=\"sk-toggleable__control sk-hidden--visually\" id=\"sk-estimator-id-5\" type=\"checkbox\" ><label for=\"sk-estimator-id-5\" class=\"sk-toggleable__label sk-toggleable__label-arrow\">RandomForestRegressor</label><div class=\"sk-toggleable__content\"><pre>RandomForestRegressor(max_depth=20, min_samples_leaf=2, n_estimators=200)</pre></div></div></div></div></div></div></div></div></div></div>"
      ],
      "text/plain": [
       "VotingRegressor(estimators=[('svm', SVR(C=100, gamma='auto', kernel='linear')),\n",
       "                            ('rfc',\n",
       "                             RandomForestRegressor(max_depth=20,\n",
       "                                                   min_samples_leaf=2,\n",
       "                                                   n_estimators=200))])"
      ]
     },
     "execution_count": 16,
     "metadata": {},
     "output_type": "execute_result"
    }
   ],
   "source": [
    "voting_model.fit(X_train_scaled, y_train)"
   ]
  },
  {
   "attachments": {},
   "cell_type": "markdown",
   "metadata": {},
   "source": [
    "# Final Evaluation and Forecasting"
   ]
  },
  {
   "attachments": {},
   "cell_type": "markdown",
   "metadata": {},
   "source": [
    "## Evaluating Final Models (SVR, RFR, Voting)"
   ]
  },
  {
   "cell_type": "code",
   "execution_count": 17,
   "metadata": {},
   "outputs": [
    {
     "name": "stdout",
     "output_type": "stream",
     "text": [
      "╒════════════╤══════════════╤═════════════╤═══════════════╤══════════════╤═══════════════╤══════════════╕\n",
      "│ Model      │   R² (Train) │   R² (Test) │   MSE (Train) │   MSE (Test) │   MAE (Train) │   MAE (Test) │\n",
      "╞════════════╪══════════════╪═════════════╪═══════════════╪══════════════╪═══════════════╪══════════════╡\n",
      "│ SVR (Best) │     0.998705 │    0.997425 │       2.90014 │      2.88888 │      1.27775  │      1.3655  │\n",
      "├────────────┼──────────────┼─────────────┼───────────────┼──────────────┼───────────────┼──────────────┤\n",
      "│ RFR (Best) │     0.999489 │    0.995404 │       1.14317 │      5.15556 │      0.790982 │      1.78772 │\n",
      "├────────────┼──────────────┼─────────────┼───────────────┼──────────────┼───────────────┼──────────────┤\n",
      "│ Voting     │     0.999236 │    0.996881 │       1.71047 │      3.49906 │      0.993613 │      1.49885 │\n",
      "╘════════════╧══════════════╧═════════════╧═══════════════╧══════════════╧═══════════════╧══════════════╛\n"
     ]
    }
   ],
   "source": [
    "# SVR Train Score\n",
    "y_svr_pred_train = svr_model.predict(X_train_scaled)\n",
    "r2_svr_train = r2_score(y_train, y_svr_pred_train)\n",
    "mse_svr_train = mean_squared_error(y_train, y_svr_pred_train)\n",
    "mae_svr_train = mean_absolute_error(y_train, y_svr_pred_train)\n",
    "\n",
    "# SVR Test Score\n",
    "y_svr_pred_test = svr_model.predict(X_test_scaled)\n",
    "r2_svr_test = r2_score(y_test, y_svr_pred_test)\n",
    "mse_svr_test = mean_squared_error(y_test, y_svr_pred_test)\n",
    "mae_svr_test = mean_absolute_error(y_test, y_svr_pred_test)\n",
    "\n",
    "# RFR Train Score\n",
    "y_rfr_pred_train = rfr_model.predict(X_train_scaled)\n",
    "r2_rfr_train = r2_score(y_train, y_rfr_pred_train)\n",
    "mse_rfr_train = mean_squared_error(y_train, y_rfr_pred_train)\n",
    "mae_rfr_train = mean_absolute_error(y_train, y_rfr_pred_train)\n",
    "\n",
    "# RFR Test Score\n",
    "y_rfr_pred_test = rfr_model.predict(X_test_scaled)\n",
    "r2_rfr_test = r2_score(y_test, y_rfr_pred_test)\n",
    "mse_rfr_test = mean_squared_error(y_test, y_rfr_pred_test)\n",
    "mae_rfr_test = mean_absolute_error(y_test, y_rfr_pred_test)\n",
    "\n",
    "# Voting Train Score\n",
    "y_voting_pred_train = voting_model.predict(X_train_scaled)\n",
    "r2_voting_train = r2_score(y_train, y_voting_pred_train)\n",
    "mse_voting_train = mean_squared_error(y_train, y_voting_pred_train)\n",
    "mae_voting_train = mean_absolute_error(y_train, y_voting_pred_train)\n",
    "\n",
    "# Voting Test Score\n",
    "y_voting_pred_test = voting_model.predict(X_test_scaled)\n",
    "r2_voting_test = r2_score(y_test, y_voting_pred_test)\n",
    "mse_voting_test = mean_squared_error(y_test, y_voting_pred_test)\n",
    "mae_voting_test = mean_absolute_error(y_test, y_voting_pred_test)\n",
    "\n",
    "svr_result = [\"SVR (Best)\", r2_svr_train, r2_svr_test, mse_svr_train,\n",
    "            mse_svr_test, mae_svr_train, mae_svr_test]\n",
    "\n",
    "rfr_result = [\"RFR (Best)\", r2_rfr_train, r2_rfr_test, mse_rfr_train,\n",
    "            mse_rfr_test, mae_rfr_train, mae_rfr_test]\n",
    "\n",
    "voting_result = [\"Voting\", r2_voting_train, r2_voting_test, mse_voting_train,\n",
    "            mse_voting_test, mae_voting_train, mae_voting_test]\n",
    "\n",
    "result_table = [svr_result, rfr_result, voting_result]\n",
    "headers = [\"Model\", \"R² (Train)\", \"R² (Test)\",\"MSE (Train)\", \"MSE (Test)\", \"MAE (Train)\", \"MAE (Test)\"]\n",
    "\n",
    "print(tabulate(result_table, headers=headers, tablefmt=\"fancy_grid\"))"
   ]
  },
  {
   "attachments": {},
   "cell_type": "markdown",
   "metadata": {},
   "source": [
    "## Cross-Validation"
   ]
  },
  {
   "cell_type": "code",
   "execution_count": 18,
   "metadata": {},
   "outputs": [
    {
     "name": "stdout",
     "output_type": "stream",
     "text": [
      "╒═════════╤══════════════════╤══════════════════╤═════════════════╤═════════════════════════╕\n",
      "│ Model   │   Mean MSE Score │   Mean MAE Score │   Mean R² Score │   R² Standard Deviation │\n",
      "╞═════════╪══════════════════╪══════════════════╪═════════════════╪═════════════════════════╡\n",
      "│ SVR     │          266.621 │         11.8803  │        0.445347 │                0.398721 │\n",
      "├─────────┼──────────────────┼──────────────────┼─────────────────┼─────────────────────────┤\n",
      "│ RFR     │          136.819 │          5.07764 │        0.732133 │                0.502286 │\n",
      "├─────────┼──────────────────┼──────────────────┼─────────────────┼─────────────────────────┤\n",
      "│ Voting  │          101.379 │          6.95235 │        0.790826 │                0.222308 │\n",
      "╘═════════╧══════════════════╧══════════════════╧═════════════════╧═════════════════════════╛\n"
     ]
    }
   ],
   "source": [
    "# Perform cross-validation\n",
    "# Define the scoring metrics\n",
    "scoring = ['neg_mean_squared_error', 'neg_mean_absolute_error', 'r2']\n",
    "\n",
    "# Perform cross-validation and calculate the mean and standard deviation for each scoring metric\n",
    "cv_results = []\n",
    "\n",
    "svr_cv_results = ['SVR']\n",
    "rfr_cv_results = ['RFR']\n",
    "voting_cv_results = ['Voting']\n",
    "\n",
    "for score in scoring:\n",
    "    svr_cv_scores = cross_val_score(svr_model, X, y, cv=5, scoring=score)\n",
    "    rfr_cv_scores = cross_val_score(rfr_model, X, y, cv=5, scoring=score)\n",
    "    voting_cv_scores = cross_val_score(voting_model, X, y, cv=5, scoring=score)\n",
    "\n",
    "    if score == 'r2':\n",
    "        svr_cv_results.append(svr_cv_scores.mean())\n",
    "        svr_cv_results.append(svr_cv_scores.std())\n",
    "\n",
    "        rfr_cv_results.append(rfr_cv_scores.mean())\n",
    "        rfr_cv_results.append(rfr_cv_scores.std())\n",
    "\n",
    "        voting_cv_results.append(voting_cv_scores.mean())\n",
    "        voting_cv_results.append(voting_cv_scores.std())\n",
    "    else:\n",
    "        svr_cv_results.append(np.abs(svr_cv_scores).mean())\n",
    "        rfr_cv_results.append(np.abs(rfr_cv_scores).mean())\n",
    "        voting_cv_results.append(np.abs(voting_cv_scores).mean())\n",
    "\n",
    "cv_results.extend([svr_cv_results, rfr_cv_results, voting_cv_results])\n",
    "\n",
    "# Create a table to display the cross-validation results\n",
    "cv_headers = [\"Model\", \"Mean MSE Score\", \"Mean MAE Score\", \"Mean R² Score\", \"R² Standard Deviation\"]\n",
    "print(tabulate(cv_results, headers=cv_headers, tablefmt=\"fancy_grid\"))\n"
   ]
  },
  {
   "attachments": {},
   "cell_type": "markdown",
   "metadata": {},
   "source": [
    "## Downloading Latest Historical Price Data"
   ]
  },
  {
   "attachments": {},
   "cell_type": "markdown",
   "metadata": {},
   "source": [
    "## Preparing Forecast Data"
   ]
  },
  {
   "cell_type": "code",
   "execution_count": 19,
   "metadata": {},
   "outputs": [],
   "source": [
    "last_index_date = df.index[-1]\n",
    "start_index_date = df.tail(60).index\n",
    "\n",
    "# Download latest 60 days historical price data from Yahoo Finance and store in a pandas DataFrame\n",
    "df_actual = yf.download(\"MSFT\", start=start_index_date[0], end=last_index_date, progress=False)\n",
    "\n",
    "number_of_days = len(df_actual)\n",
    "last_n_days = df[-number_of_days:]\n",
    "\n",
    "last_n_days_df = pd.DataFrame(\n",
    "    last_n_days, columns=X.columns)\n",
    "\n",
    "X_pred = scaler.transform(last_n_days_df)\n",
    "\n",
    "y_svr_pred = svr_model.predict(X_pred) \n",
    "y_rfr_pred = rfr_model.predict(X_pred)\n",
    "y_voting_pred = voting_model.predict(X_pred) \n",
    "\n",
    "df_pred = pd.DataFrame({'SVR Prediction': y_svr_pred,\n",
    "                        'RFR Prediction': y_rfr_pred,\n",
    "                        'Voting Prediction': y_voting_pred}, index=df_actual.index)\n",
    "\n",
    "df_combined = pd.concat([df_actual, df_pred], axis=1)\n",
    "\n",
    "forecast_dates = pd.date_range(start=df.index[-1] + pd.DateOffset(days=1), periods=10, freq='B')\n",
    "df_forecast = pd.DataFrame(index=forecast_dates)\n",
    "\n",
    "# Get the last available historical data\n",
    "last_data = X.iloc[-10:, :]  # Get the last 35 data points, assuming each row represents a sample\n",
    "\n",
    "# Preprocess the forecast data by scaling it using the same scaler used for training\n",
    "last_data_scaled = scaler.transform(last_data)"
   ]
  },
  {
   "attachments": {},
   "cell_type": "markdown",
   "metadata": {},
   "source": [
    "## Making Predictions for Forecast Period using Final Models"
   ]
  },
  {
   "cell_type": "code",
   "execution_count": 20,
   "metadata": {},
   "outputs": [],
   "source": [
    "# Make predictions for the forecast period using the SVR and RFR models\n",
    "svr_prediction = svr_model.predict(last_data_scaled)\n",
    "rfr_prediction = rfr_model.predict(last_data_scaled)\n",
    "voting_prediction = voting_model.predict(last_data_scaled)\n",
    "\n",
    "# Assign the forecasted prices to the DataFrame columns\n",
    "df_forecast['SVR Prediction'] = svr_prediction\n",
    "df_forecast['RFR Prediction'] = rfr_prediction\n",
    "df_forecast['Voting Prediction'] = voting_prediction\n",
    "\n",
    "# Set the display format for float values\n",
    "pd.set_option('display.float_format', lambda x: '%.3f' % x)"
   ]
  },
  {
   "attachments": {},
   "cell_type": "markdown",
   "metadata": {},
   "source": [
    "## Combining Actual Prices and Forecasted Prices from all models"
   ]
  },
  {
   "cell_type": "code",
   "execution_count": 21,
   "metadata": {},
   "outputs": [],
   "source": [
    "df_combined2 = pd.concat([df_combined, df_forecast])"
   ]
  },
  {
   "attachments": {},
   "cell_type": "markdown",
   "metadata": {},
   "source": [
    "## Visualizing Actual Prices and Predictions"
   ]
  },
  {
   "cell_type": "code",
   "execution_count": 22,
   "metadata": {},
   "outputs": [
    {
     "data": {
      "image/png": "[encoded data removed]",
      "text/plain": [
       "<Figure size 1600x800 with 1 Axes>"
      ]
     },
     "metadata": {},
     "output_type": "display_data"
    }
   ],
   "source": [
    "# Plot the actual price and the predictions\n",
    "plt.figure(figsize=(16, 8))\n",
    "plt.plot(df_combined2.index, df_combined2['Close'], label='Historical')\n",
    "plt.plot(df_combined2.index,\n",
    "        df_combined2['SVR Prediction'], label='SVR Prediction')\n",
    "plt.plot(df_combined2.index,\n",
    "        df_combined2['RFR Prediction'], label='RFR Prediction')\n",
    "plt.plot(df_combined2.index,\n",
    "        df_combined2['Voting Prediction'], label='Voting Prediction')\n",
    "\n",
    "plt.xlabel('Date')\n",
    "plt.ylabel('Price')\n",
    "plt.legend()\n",
    "plt.show()"
   ]
  },
  {
   "attachments": {},
   "cell_type": "markdown",
   "metadata": {},
   "source": [
    "## Displaying Forecasted Prices from all models"
   ]
  },
  {
   "cell_type": "code",
   "execution_count": 23,
   "metadata": {},
   "outputs": [
    {
     "name": "stdout",
     "output_type": "stream",
     "text": [
      "╒═════════════════════╤══════════════════╤══════════════════╤═════════════════════╕\n",
      "│                     │   SVR Prediction │   RFR Prediction │   Voting Prediction │\n",
      "╞═════════════════════╪══════════════════╪══════════════════╪═════════════════════╡\n",
      "│ 2023-06-22 00:00:00 │          326.947 │          326.13  │             326.474 │\n",
      "├─────────────────────┼──────────────────┼──────────────────┼─────────────────────┤\n",
      "│ 2023-06-23 00:00:00 │          326.036 │          325.834 │             326.091 │\n",
      "├─────────────────────┼──────────────────┼──────────────────┼─────────────────────┤\n",
      "│ 2023-06-26 00:00:00 │          327.602 │          331.298 │             329.408 │\n",
      "├─────────────────────┼──────────────────┼──────────────────┼─────────────────────┤\n",
      "│ 2023-06-27 00:00:00 │          328.482 │          331.814 │             330.056 │\n",
      "├─────────────────────┼──────────────────┼──────────────────┼─────────────────────┤\n",
      "│ 2023-06-28 00:00:00 │          333.472 │          334.876 │             334.2   │\n",
      "├─────────────────────┼──────────────────┼──────────────────┼─────────────────────┤\n",
      "│ 2023-06-29 00:00:00 │          336.646 │          335.323 │             336.053 │\n",
      "├─────────────────────┼──────────────────┼──────────────────┼─────────────────────┤\n",
      "│ 2023-06-30 00:00:00 │          345.672 │          340.754 │             343.198 │\n",
      "├─────────────────────┼──────────────────┼──────────────────┼─────────────────────┤\n",
      "│ 2023-07-03 00:00:00 │          344.35  │          340.706 │             342.549 │\n",
      "├─────────────────────┼──────────────────┼──────────────────┼─────────────────────┤\n",
      "│ 2023-07-04 00:00:00 │          338.266 │          339.99  │             339.131 │\n",
      "├─────────────────────┼──────────────────┼──────────────────┼─────────────────────┤\n",
      "│ 2023-07-05 00:00:00 │          334.097 │          335.486 │             334.654 │\n",
      "╘═════════════════════╧══════════════════╧══════════════════╧═════════════════════╛\n"
     ]
    }
   ],
   "source": [
    "# Assuming df_forecast is your DataFrame\n",
    "table = tabulate(df_forecast, headers='keys', tablefmt='fancy_grid')\n",
    "print(table)\n"
   ]
  },
  {
   "cell_type": "code",
   "execution_count": 24,
   "metadata": {},
   "outputs": [
    {
     "data": {
      "application/vnd.plotly.v1+json": {
       "config": {
        "plotlyServerURL": "https://plot.ly"
       },
       "data": [
        {
         "mode": "lines",
         "name": "Historical",
         "type": "scatter",
         "x": [
          "2023-03-27T00:00:00",
          "2023-03-28T00:00:00",
          "2023-03-29T00:00:00",
          "2023-03-30T00:00:00",
          "2023-03-31T00:00:00",
          "2023-04-03T00:00:00",
          "2023-04-04T00:00:00",
          "2023-04-05T00:00:00",
          "2023-04-06T00:00:00",
          "2023-04-10T00:00:00",
          "2023-04-11T00:00:00",
          "2023-04-12T00:00:00",
          "2023-04-13T00:00:00",
          "2023-04-14T00:00:00",
          "2023-04-17T00:00:00",
          "2023-04-18T00:00:00",
          "2023-04-19T00:00:00",
          "2023-04-20T00:00:00",
          "2023-04-21T00:00:00",
          "2023-04-24T00:00:00",
          "2023-04-25T00:00:00",
          "2023-04-26T00:00:00",
          "2023-04-27T00:00:00",
          "2023-04-28T00:00:00",
          "2023-05-01T00:00:00",
          "2023-05-02T00:00:00",
          "2023-05-03T00:00:00",
          "2023-05-04T00:00:00",
          "2023-05-05T00:00:00",
          "2023-05-08T00:00:00",
          "2023-05-09T00:00:00",
          "2023-05-10T00:00:00",
          "2023-05-11T00:00:00",
          "2023-05-12T00:00:00",
          "2023-05-15T00:00:00",
          "2023-05-16T00:00:00",
          "2023-05-17T00:00:00",
          "2023-05-18T00:00:00",
          "2023-05-19T00:00:00",
          "2023-05-22T00:00:00",
          "2023-05-23T00:00:00",
          "2023-05-24T00:00:00",
          "2023-05-25T00:00:00",
          "2023-05-26T00:00:00",
          "2023-05-30T00:00:00",
          "2023-05-31T00:00:00",
          "2023-06-01T00:00:00",
          "2023-06-02T00:00:00",
          "2023-06-05T00:00:00",
          "2023-06-06T00:00:00",
          "2023-06-07T00:00:00",
          "2023-06-08T00:00:00",
          "2023-06-09T00:00:00",
          "2023-06-12T00:00:00",
          "2023-06-13T00:00:00",
          "2023-06-14T00:00:00",
          "2023-06-15T00:00:00",
          "2023-06-16T00:00:00",
          "2023-06-20T00:00:00",
          "2023-06-22T00:00:00",
          "2023-06-23T00:00:00",
          "2023-06-26T00:00:00",
          "2023-06-27T00:00:00",
          "2023-06-28T00:00:00",
          "2023-06-29T00:00:00",
          "2023-06-30T00:00:00",
          "2023-07-03T00:00:00",
          "2023-07-04T00:00:00",
          "2023-07-05T00:00:00"
         ],
         "y": [
          276.3800048828125,
          275.2300109863281,
          280.510009765625,
          284.04998779296875,
          288.29998779296875,
          287.2300109863281,
          287.17999267578125,
          284.3399963378906,
          291.6000061035156,
          289.3900146484375,
          282.8299865722656,
          283.489990234375,
          289.8399963378906,
          286.1400146484375,
          288.79998779296875,
          288.3699951171875,
          288.45001220703125,
          286.1099853515625,
          285.760009765625,
          281.7699890136719,
          275.4200134277344,
          295.3699951171875,
          304.8299865722656,
          307.260009765625,
          305.55999755859375,
          305.4100036621094,
          304.3999938964844,
          305.4100036621094,
          310.6499938964844,
          308.6499938964844,
          307,
          312.30999755859375,
          310.1099853515625,
          308.9700012207031,
          309.4599914550781,
          311.739990234375,
          314,
          318.5199890136719,
          318.3399963378906,
          321.17999267578125,
          315.260009765625,
          313.8500061035156,
          325.9200134277344,
          332.8900146484375,
          331.2099914550781,
          328.3900146484375,
          332.5799865722656,
          335.3999938964844,
          335.94000244140625,
          333.67999267578125,
          323.3800048828125,
          325.260009765625,
          326.7900085449219,
          331.8500061035156,
          334.2900085449219,
          337.3399963378906,
          348.1000061035156,
          342.3299865722656,
          338.04998779296875,
          null,
          null,
          null,
          null,
          null,
          null,
          null,
          null,
          null,
          null
         ]
        },
        {
         "mode": "lines",
         "name": "SVR Prediction",
         "type": "scatter",
         "x": [
          "2023-03-27T00:00:00",
          "2023-03-28T00:00:00",
          "2023-03-29T00:00:00",
          "2023-03-30T00:00:00",
          "2023-03-31T00:00:00",
          "2023-04-03T00:00:00",
          "2023-04-04T00:00:00",
          "2023-04-05T00:00:00",
          "2023-04-06T00:00:00",
          "2023-04-10T00:00:00",
          "2023-04-11T00:00:00",
          "2023-04-12T00:00:00",
          "2023-04-13T00:00:00",
          "2023-04-14T00:00:00",
          "2023-04-17T00:00:00",
          "2023-04-18T00:00:00",
          "2023-04-19T00:00:00",
          "2023-04-20T00:00:00",
          "2023-04-21T00:00:00",
          "2023-04-24T00:00:00",
          "2023-04-25T00:00:00",
          "2023-04-26T00:00:00",
          "2023-04-27T00:00:00",
          "2023-04-28T00:00:00",
          "2023-05-01T00:00:00",
          "2023-05-02T00:00:00",
          "2023-05-03T00:00:00",
          "2023-05-04T00:00:00",
          "2023-05-05T00:00:00",
          "2023-05-08T00:00:00",
          "2023-05-09T00:00:00",
          "2023-05-10T00:00:00",
          "2023-05-11T00:00:00",
          "2023-05-12T00:00:00",
          "2023-05-15T00:00:00",
          "2023-05-16T00:00:00",
          "2023-05-17T00:00:00",
          "2023-05-18T00:00:00",
          "2023-05-19T00:00:00",
          "2023-05-22T00:00:00",
          "2023-05-23T00:00:00",
          "2023-05-24T00:00:00",
          "2023-05-25T00:00:00",
          "2023-05-26T00:00:00",
          "2023-05-30T00:00:00",
          "2023-05-31T00:00:00",
          "2023-06-01T00:00:00",
          "2023-06-02T00:00:00",
          "2023-06-05T00:00:00",
          "2023-06-06T00:00:00",
          "2023-06-07T00:00:00",
          "2023-06-08T00:00:00",
          "2023-06-09T00:00:00",
          "2023-06-12T00:00:00",
          "2023-06-13T00:00:00",
          "2023-06-14T00:00:00",
          "2023-06-15T00:00:00",
          "2023-06-16T00:00:00",
          "2023-06-20T00:00:00",
          "2023-06-22T00:00:00",
          "2023-06-23T00:00:00",
          "2023-06-26T00:00:00",
          "2023-06-27T00:00:00",
          "2023-06-28T00:00:00",
          "2023-06-29T00:00:00",
          "2023-06-30T00:00:00",
          "2023-07-03T00:00:00",
          "2023-07-04T00:00:00",
          "2023-07-05T00:00:00"
         ],
         "y": [
          273.89939686273675,
          280.3758277520355,
          282.5092261060617,
          286.169931629228,
          286.0371839396139,
          288.268003178609,
          284.6675756432204,
          288.2174755573153,
          286.2694869997592,
          282.7691061231798,
          284.98025766931966,
          287.72232775085723,
          285.344536708969,
          288.39237202628675,
          289.0365093192781,
          286.8262387157043,
          287.3873666319295,
          284.3298293647769,
          281.4367361898383,
          277.75315462262205,
          298.32180052980965,
          301.7866566281156,
          306.92422203995164,
          307.052517147899,
          306.5212903211356,
          306.27155122134053,
          305.37084311923326,
          309.77930507496757,
          308.1294991805934,
          309.3348131539913,
          311.2375981856151,
          307.6126088793007,
          307.45914681750986,
          308.5785398883001,
          312.41156641721585,
          312.81731664661373,
          317.1823588911977,
          317.776927858851,
          320.87531731711925,
          318.27080494588444,
          314.2290924734262,
          324.70142775443395,
          330.28812117080923,
          332.7125749859421,
          331.3126836217295,
          330.4882572698579,
          335.13014389393817,
          336.77814684490494,
          333.3593710377632,
          326.9473728534969,
          326.0364308288974,
          327.6021039670799,
          328.4818904929778,
          333.47247879723517,
          336.6460478464789,
          345.67200110850996,
          344.3501734673502,
          338.26593893315015,
          334.0966177149964,
          326.9473728534969,
          326.0364308288974,
          327.6021039670799,
          328.4818904929778,
          333.47247879723517,
          336.6460478464789,
          345.67200110850996,
          344.3501734673502,
          338.26593893315015,
          334.0966177149964
         ]
        },
        {
         "mode": "lines",
         "name": "RFR Prediction",
         "type": "scatter",
         "x": [
          "2023-03-27T00:00:00",
          "2023-03-28T00:00:00",
          "2023-03-29T00:00:00",
          "2023-03-30T00:00:00",
          "2023-03-31T00:00:00",
          "2023-04-03T00:00:00",
          "2023-04-04T00:00:00",
          "2023-04-05T00:00:00",
          "2023-04-06T00:00:00",
          "2023-04-10T00:00:00",
          "2023-04-11T00:00:00",
          "2023-04-12T00:00:00",
          "2023-04-13T00:00:00",
          "2023-04-14T00:00:00",
          "2023-04-17T00:00:00",
          "2023-04-18T00:00:00",
          "2023-04-19T00:00:00",
          "2023-04-20T00:00:00",
          "2023-04-21T00:00:00",
          "2023-04-24T00:00:00",
          "2023-04-25T00:00:00",
          "2023-04-26T00:00:00",
          "2023-04-27T00:00:00",
          "2023-04-28T00:00:00",
          "2023-05-01T00:00:00",
          "2023-05-02T00:00:00",
          "2023-05-03T00:00:00",
          "2023-05-04T00:00:00",
          "2023-05-05T00:00:00",
          "2023-05-08T00:00:00",
          "2023-05-09T00:00:00",
          "2023-05-10T00:00:00",
          "2023-05-11T00:00:00",
          "2023-05-12T00:00:00",
          "2023-05-15T00:00:00",
          "2023-05-16T00:00:00",
          "2023-05-17T00:00:00",
          "2023-05-18T00:00:00",
          "2023-05-19T00:00:00",
          "2023-05-22T00:00:00",
          "2023-05-23T00:00:00",
          "2023-05-24T00:00:00",
          "2023-05-25T00:00:00",
          "2023-05-26T00:00:00",
          "2023-05-30T00:00:00",
          "2023-05-31T00:00:00",
          "2023-06-01T00:00:00",
          "2023-06-02T00:00:00",
          "2023-06-05T00:00:00",
          "2023-06-06T00:00:00",
          "2023-06-07T00:00:00",
          "2023-06-08T00:00:00",
          "2023-06-09T00:00:00",
          "2023-06-12T00:00:00",
          "2023-06-13T00:00:00",
          "2023-06-14T00:00:00",
          "2023-06-15T00:00:00",
          "2023-06-16T00:00:00",
          "2023-06-20T00:00:00",
          "2023-06-22T00:00:00",
          "2023-06-23T00:00:00",
          "2023-06-26T00:00:00",
          "2023-06-27T00:00:00",
          "2023-06-28T00:00:00",
          "2023-06-29T00:00:00",
          "2023-06-30T00:00:00",
          "2023-07-03T00:00:00",
          "2023-07-04T00:00:00",
          "2023-07-05T00:00:00"
         ],
         "y": [
          275.57498774797943,
          281.4116017329228,
          285.7777022577921,
          286.81767516962697,
          286.53202797317516,
          287.8338070824638,
          285.93956969797046,
          288.8073051814124,
          286.8784147361875,
          285.1586920388842,
          286.45786561160617,
          287.9817558109949,
          286.3051795594957,
          288.45532185866335,
          289.8787544898987,
          286.90309103369344,
          286.6856610680836,
          285.5903101076398,
          281.27783964659665,
          276.86011789860805,
          297.27884255700695,
          302.01061392054476,
          307.2249470617506,
          308.5982866979559,
          306.9405925713796,
          306.9266368774535,
          306.7866716653127,
          309.38474515024825,
          308.7058589288854,
          309.1268122033851,
          310.45767865081064,
          309.94429177995704,
          309.8033729072077,
          309.5617736956511,
          312.8152481152974,
          312.9491351849995,
          314.3858042629181,
          318.01522868244246,
          321.19913712910255,
          317.11749282516007,
          314.6217699531676,
          324.93372238595134,
          330.92763036544596,
          334.08183796915944,
          331.05814978606975,
          331.56454093332,
          335.4363088847569,
          336.33560215408085,
          334.1623306078231,
          326.130045119331,
          325.83378649737205,
          331.2984114574085,
          331.81429132187407,
          334.8759973795452,
          335.32279844247745,
          340.75369493672207,
          340.7063819351801,
          339.9895791286288,
          335.48630381096746,
          326.130045119331,
          325.83378649737205,
          331.2984114574085,
          331.81429132187407,
          334.8759973795452,
          335.32279844247745,
          340.75369493672207,
          340.7063819351801,
          339.9895791286288,
          335.48630381096746
         ]
        },
        {
         "mode": "lines",
         "name": "Voting Prediction",
         "type": "scatter",
         "x": [
          "2023-03-27T00:00:00",
          "2023-03-28T00:00:00",
          "2023-03-29T00:00:00",
          "2023-03-30T00:00:00",
          "2023-03-31T00:00:00",
          "2023-04-03T00:00:00",
          "2023-04-04T00:00:00",
          "2023-04-05T00:00:00",
          "2023-04-06T00:00:00",
          "2023-04-10T00:00:00",
          "2023-04-11T00:00:00",
          "2023-04-12T00:00:00",
          "2023-04-13T00:00:00",
          "2023-04-14T00:00:00",
          "2023-04-17T00:00:00",
          "2023-04-18T00:00:00",
          "2023-04-19T00:00:00",
          "2023-04-20T00:00:00",
          "2023-04-21T00:00:00",
          "2023-04-24T00:00:00",
          "2023-04-25T00:00:00",
          "2023-04-26T00:00:00",
          "2023-04-27T00:00:00",
          "2023-04-28T00:00:00",
          "2023-05-01T00:00:00",
          "2023-05-02T00:00:00",
          "2023-05-03T00:00:00",
          "2023-05-04T00:00:00",
          "2023-05-05T00:00:00",
          "2023-05-08T00:00:00",
          "2023-05-09T00:00:00",
          "2023-05-10T00:00:00",
          "2023-05-11T00:00:00",
          "2023-05-12T00:00:00",
          "2023-05-15T00:00:00",
          "2023-05-16T00:00:00",
          "2023-05-17T00:00:00",
          "2023-05-18T00:00:00",
          "2023-05-19T00:00:00",
          "2023-05-22T00:00:00",
          "2023-05-23T00:00:00",
          "2023-05-24T00:00:00",
          "2023-05-25T00:00:00",
          "2023-05-26T00:00:00",
          "2023-05-30T00:00:00",
          "2023-05-31T00:00:00",
          "2023-06-01T00:00:00",
          "2023-06-02T00:00:00",
          "2023-06-05T00:00:00",
          "2023-06-06T00:00:00",
          "2023-06-07T00:00:00",
          "2023-06-08T00:00:00",
          "2023-06-09T00:00:00",
          "2023-06-12T00:00:00",
          "2023-06-13T00:00:00",
          "2023-06-14T00:00:00",
          "2023-06-15T00:00:00",
          "2023-06-16T00:00:00",
          "2023-06-20T00:00:00",
          "2023-06-22T00:00:00",
          "2023-06-23T00:00:00",
          "2023-06-26T00:00:00",
          "2023-06-27T00:00:00",
          "2023-06-28T00:00:00",
          "2023-06-29T00:00:00",
          "2023-06-30T00:00:00",
          "2023-07-03T00:00:00",
          "2023-07-04T00:00:00",
          "2023-07-05T00:00:00"
         ],
         "y": [
          274.9040537311213,
          280.7932577137558,
          283.9820298359549,
          286.3038655160201,
          286.306766811158,
          288.00124959082694,
          285.25040438474116,
          288.2673336763322,
          286.54047346914643,
          283.7697618913486,
          285.5971660970768,
          287.85396945541913,
          285.8920276649193,
          288.34355322701595,
          289.40139497598165,
          286.781040826375,
          286.9779583383807,
          284.7865182846615,
          281.46632210511063,
          277.34229228188457,
          297.8770371049682,
          301.7900966406204,
          307.1089626430569,
          307.86110248480253,
          306.8811961059406,
          306.7628866522389,
          306.01234987836693,
          309.6382242447097,
          308.4899333004555,
          309.2262530911677,
          310.88476885912155,
          308.69809850155326,
          308.51050773889284,
          308.8212142210202,
          312.61711295261387,
          312.9482019230562,
          315.76113623700724,
          318.02522428644966,
          321.13905779684376,
          317.71396178246266,
          314.3593290398095,
          324.777426359518,
          330.5028328608752,
          333.3947944887626,
          331.2007997810753,
          331.0053987962096,
          335.3152045070633,
          336.6078105514823,
          333.8011126865016,
          326.47397189892195,
          326.0910831596211,
          329.40808396765726,
          330.0559418985168,
          334.2000406656058,
          336.05303339522357,
          343.1977365108406,
          342.54856416159674,
          339.1313864484388,
          334.6544513288118,
          326.47397189892195,
          326.0910831596211,
          329.40808396765726,
          330.0559418985168,
          334.2000406656058,
          336.05303339522357,
          343.1977365108406,
          342.54856416159674,
          339.1313864484388,
          334.6544513288118
         ]
        }
       ],
       "layout": {
        "showlegend": true,
        "template": {
         "data": {
          "bar": [
           {
            "error_x": {
             "color": "#2a3f5f"
            },
            "error_y": {
             "color": "#2a3f5f"
            },
            "marker": {
             "line": {
              "color": "#E5ECF6",
              "width": 0.5
             },
             "pattern": {
              "fillmode": "overlay",
              "size": 10,
              "solidity": 0.2
             }
            },
            "type": "bar"
           }
          ],
          "barpolar": [
           {
            "marker": {
             "line": {
              "color": "#E5ECF6",
              "width": 0.5
             },
             "pattern": {
              "fillmode": "overlay",
              "size": 10,
              "solidity": 0.2
             }
            },
            "type": "barpolar"
           }
          ],
          "carpet": [
           {
            "aaxis": {
             "endlinecolor": "#2a3f5f",
             "gridcolor": "white",
             "linecolor": "white",
             "minorgridcolor": "white",
             "startlinecolor": "#2a3f5f"
            },
            "baxis": {
             "endlinecolor": "#2a3f5f",
             "gridcolor": "white",
             "linecolor": "white",
             "minorgridcolor": "white",
             "startlinecolor": "#2a3f5f"
            },
            "type": "carpet"
           }
          ],
          "choropleth": [
           {
            "colorbar": {
             "outlinewidth": 0,
             "ticks": ""
            },
            "type": "choropleth"
           }
          ],
          "contour": [
           {
            "colorbar": {
             "outlinewidth": 0,
             "ticks": ""
            },
            "colorscale": [
             [
              0,
              "#0d0887"
             ],
             [
              0.1111111111111111,
              "#46039f"
             ],
             [
              0.2222222222222222,
              "#7201a8"
             ],
             [
              0.3333333333333333,
              "#9c179e"
             ],
             [
              0.4444444444444444,
              "#bd3786"
             ],
             [
              0.5555555555555556,
              "#d8576b"
             ],
             [
              0.6666666666666666,
              "#ed7953"
             ],
             [
              0.7777777777777778,
              "#fb9f3a"
             ],
             [
              0.8888888888888888,
              "#fdca26"
             ],
             [
              1,
              "#f0f921"
             ]
            ],
            "type": "contour"
           }
          ],
          "contourcarpet": [
           {
            "colorbar": {
             "outlinewidth": 0,
             "ticks": ""
            },
            "type": "contourcarpet"
           }
          ],
          "heatmap": [
           {
            "colorbar": {
             "outlinewidth": 0,
             "ticks": ""
            },
            "colorscale": [
             [
              0,
              "#0d0887"
             ],
             [
              0.1111111111111111,
              "#46039f"
             ],
             [
              0.2222222222222222,
              "#7201a8"
             ],
             [
              0.3333333333333333,
              "#9c179e"
             ],
             [
              0.4444444444444444,
              "#bd3786"
             ],
             [
              0.5555555555555556,
              "#d8576b"
             ],
             [
              0.6666666666666666,
              "#ed7953"
             ],
             [
              0.7777777777777778,
              "#fb9f3a"
             ],
             [
              0.8888888888888888,
              "#fdca26"
             ],
             [
              1,
              "#f0f921"
             ]
            ],
            "type": "heatmap"
           }
          ],
          "heatmapgl": [
           {
            "colorbar": {
             "outlinewidth": 0,
             "ticks": ""
            },
            "colorscale": [
             [
              0,
              "#0d0887"
             ],
             [
              0.1111111111111111,
              "#46039f"
             ],
             [
              0.2222222222222222,
              "#7201a8"
             ],
             [
              0.3333333333333333,
              "#9c179e"
             ],
             [
              0.4444444444444444,
              "#bd3786"
             ],
             [
              0.5555555555555556,
              "#d8576b"
             ],
             [
              0.6666666666666666,
              "#ed7953"
             ],
             [
              0.7777777777777778,
              "#fb9f3a"
             ],
             [
              0.8888888888888888,
              "#fdca26"
             ],
             [
              1,
              "#f0f921"
             ]
            ],
            "type": "heatmapgl"
           }
          ],
          "histogram": [
           {
            "marker": {
             "pattern": {
              "fillmode": "overlay",
              "size": 10,
              "solidity": 0.2
             }
            },
            "type": "histogram"
           }
          ],
          "histogram2d": [
           {
            "colorbar": {
             "outlinewidth": 0,
             "ticks": ""
            },
            "colorscale": [
             [
              0,
              "#0d0887"
             ],
             [
              0.1111111111111111,
              "#46039f"
             ],
             [
              0.2222222222222222,
              "#7201a8"
             ],
             [
              0.3333333333333333,
              "#9c179e"
             ],
             [
              0.4444444444444444,
              "#bd3786"
             ],
             [
              0.5555555555555556,
              "#d8576b"
             ],
             [
              0.6666666666666666,
              "#ed7953"
             ],
             [
              0.7777777777777778,
              "#fb9f3a"
             ],
             [
              0.8888888888888888,
              "#fdca26"
             ],
             [
              1,
              "#f0f921"
             ]
            ],
            "type": "histogram2d"
           }
          ],
          "histogram2dcontour": [
           {
            "colorbar": {
             "outlinewidth": 0,
             "ticks": ""
            },
            "colorscale": [
             [
              0,
              "#0d0887"
             ],
             [
              0.1111111111111111,
              "#46039f"
             ],
             [
              0.2222222222222222,
              "#7201a8"
             ],
             [
              0.3333333333333333,
              "#9c179e"
             ],
             [
              0.4444444444444444,
              "#bd3786"
             ],
             [
              0.5555555555555556,
              "#d8576b"
             ],
             [
              0.6666666666666666,
              "#ed7953"
             ],
             [
              0.7777777777777778,
              "#fb9f3a"
             ],
             [
              0.8888888888888888,
              "#fdca26"
             ],
             [
              1,
              "#f0f921"
             ]
            ],
            "type": "histogram2dcontour"
           }
          ],
          "mesh3d": [
           {
            "colorbar": {
             "outlinewidth": 0,
             "ticks": ""
            },
            "type": "mesh3d"
           }
          ],
          "parcoords": [
           {
            "line": {
             "colorbar": {
              "outlinewidth": 0,
              "ticks": ""
             }
            },
            "type": "parcoords"
           }
          ],
          "pie": [
           {
            "automargin": true,
            "type": "pie"
           }
          ],
          "scatter": [
           {
            "fillpattern": {
             "fillmode": "overlay",
             "size": 10,
             "solidity": 0.2
            },
            "type": "scatter"
           }
          ],
          "scatter3d": [
           {
            "line": {
             "colorbar": {
              "outlinewidth": 0,
              "ticks": ""
             }
            },
            "marker": {
             "colorbar": {
              "outlinewidth": 0,
              "ticks": ""
             }
            },
            "type": "scatter3d"
           }
          ],
          "scattercarpet": [
           {
            "marker": {
             "colorbar": {
              "outlinewidth": 0,
              "ticks": ""
             }
            },
            "type": "scattercarpet"
           }
          ],
          "scattergeo": [
           {
            "marker": {
             "colorbar": {
              "outlinewidth": 0,
              "ticks": ""
             }
            },
            "type": "scattergeo"
           }
          ],
          "scattergl": [
           {
            "marker": {
             "colorbar": {
              "outlinewidth": 0,
              "ticks": ""
             }
            },
            "type": "scattergl"
           }
          ],
          "scattermapbox": [
           {
            "marker": {
             "colorbar": {
              "outlinewidth": 0,
              "ticks": ""
             }
            },
            "type": "scattermapbox"
           }
          ],
          "scatterpolar": [
           {
            "marker": {
             "colorbar": {
              "outlinewidth": 0,
              "ticks": ""
             }
            },
            "type": "scatterpolar"
           }
          ],
          "scatterpolargl": [
           {
            "marker": {
             "colorbar": {
              "outlinewidth": 0,
              "ticks": ""
             }
            },
            "type": "scatterpolargl"
           }
          ],
          "scatterternary": [
           {
            "marker": {
             "colorbar": {
              "outlinewidth": 0,
              "ticks": ""
             }
            },
            "type": "scatterternary"
           }
          ],
          "surface": [
           {
            "colorbar": {
             "outlinewidth": 0,
             "ticks": ""
            },
            "colorscale": [
             [
              0,
              "#0d0887"
             ],
             [
              0.1111111111111111,
              "#46039f"
             ],
             [
              0.2222222222222222,
              "#7201a8"
             ],
             [
              0.3333333333333333,
              "#9c179e"
             ],
             [
              0.4444444444444444,
              "#bd3786"
             ],
             [
              0.5555555555555556,
              "#d8576b"
             ],
             [
              0.6666666666666666,
              "#ed7953"
             ],
             [
              0.7777777777777778,
              "#fb9f3a"
             ],
             [
              0.8888888888888888,
              "#fdca26"
             ],
             [
              1,
              "#f0f921"
             ]
            ],
            "type": "surface"
           }
          ],
          "table": [
           {
            "cells": {
             "fill": {
              "color": "#EBF0F8"
             },
             "line": {
              "color": "white"
             }
            },
            "header": {
             "fill": {
              "color": "#C8D4E3"
             },
             "line": {
              "color": "white"
             }
            },
            "type": "table"
           }
          ]
         },
         "layout": {
          "annotationdefaults": {
           "arrowcolor": "#2a3f5f",
           "arrowhead": 0,
           "arrowwidth": 1
          },
          "autotypenumbers": "strict",
          "coloraxis": {
           "colorbar": {
            "outlinewidth": 0,
            "ticks": ""
           }
          },
          "colorscale": {
           "diverging": [
            [
             0,
             "#8e0152"
            ],
            [
             0.1,
             "#c51b7d"
            ],
            [
             0.2,
             "#de77ae"
            ],
            [
             0.3,
             "#f1b6da"
            ],
            [
             0.4,
             "#fde0ef"
            ],
            [
             0.5,
             "#f7f7f7"
            ],
            [
             0.6,
             "#e6f5d0"
            ],
            [
             0.7,
             "#b8e186"
            ],
            [
             0.8,
             "#7fbc41"
            ],
            [
             0.9,
             "#4d9221"
            ],
            [
             1,
             "#276419"
            ]
           ],
           "sequential": [
            [
             0,
             "#0d0887"
            ],
            [
             0.1111111111111111,
             "#46039f"
            ],
            [
             0.2222222222222222,
             "#7201a8"
            ],
            [
             0.3333333333333333,
             "#9c179e"
            ],
            [
             0.4444444444444444,
             "#bd3786"
            ],
            [
             0.5555555555555556,
             "#d8576b"
            ],
            [
             0.6666666666666666,
             "#ed7953"
            ],
            [
             0.7777777777777778,
             "#fb9f3a"
            ],
            [
             0.8888888888888888,
             "#fdca26"
            ],
            [
             1,
             "#f0f921"
            ]
           ],
           "sequentialminus": [
            [
             0,
             "#0d0887"
            ],
            [
             0.1111111111111111,
             "#46039f"
            ],
            [
             0.2222222222222222,
             "#7201a8"
            ],
            [
             0.3333333333333333,
             "#9c179e"
            ],
            [
             0.4444444444444444,
             "#bd3786"
            ],
            [
             0.5555555555555556,
             "#d8576b"
            ],
            [
             0.6666666666666666,
             "#ed7953"
            ],
            [
             0.7777777777777778,
             "#fb9f3a"
            ],
            [
             0.8888888888888888,
             "#fdca26"
            ],
            [
             1,
             "#f0f921"
            ]
           ]
          },
          "colorway": [
           "#636efa",
           "#EF553B",
           "#00cc96",
           "#ab63fa",
           "#FFA15A",
           "#19d3f3",
           "#FF6692",
           "#B6E880",
           "#FF97FF",
           "#FECB52"
          ],
          "font": {
           "color": "#2a3f5f"
          },
          "geo": {
           "bgcolor": "white",
           "lakecolor": "white",
           "landcolor": "#E5ECF6",
           "showlakes": true,
           "showland": true,
           "subunitcolor": "white"
          },
          "hoverlabel": {
           "align": "left"
          },
          "hovermode": "closest",
          "mapbox": {
           "style": "light"
          },
          "paper_bgcolor": "white",
          "plot_bgcolor": "#E5ECF6",
          "polar": {
           "angularaxis": {
            "gridcolor": "white",
            "linecolor": "white",
            "ticks": ""
           },
           "bgcolor": "#E5ECF6",
           "radialaxis": {
            "gridcolor": "white",
            "linecolor": "white",
            "ticks": ""
           }
          },
          "scene": {
           "xaxis": {
            "backgroundcolor": "#E5ECF6",
            "gridcolor": "white",
            "gridwidth": 2,
            "linecolor": "white",
            "showbackground": true,
            "ticks": "",
            "zerolinecolor": "white"
           },
           "yaxis": {
            "backgroundcolor": "#E5ECF6",
            "gridcolor": "white",
            "gridwidth": 2,
            "linecolor": "white",
            "showbackground": true,
            "ticks": "",
            "zerolinecolor": "white"
           },
           "zaxis": {
            "backgroundcolor": "#E5ECF6",
            "gridcolor": "white",
            "gridwidth": 2,
            "linecolor": "white",
            "showbackground": true,
            "ticks": "",
            "zerolinecolor": "white"
           }
          },
          "shapedefaults": {
           "line": {
            "color": "#2a3f5f"
           }
          },
          "ternary": {
           "aaxis": {
            "gridcolor": "white",
            "linecolor": "white",
            "ticks": ""
           },
           "baxis": {
            "gridcolor": "white",
            "linecolor": "white",
            "ticks": ""
           },
           "bgcolor": "#E5ECF6",
           "caxis": {
            "gridcolor": "white",
            "linecolor": "white",
            "ticks": ""
           }
          },
          "title": {
           "x": 0.05
          },
          "xaxis": {
           "automargin": true,
           "gridcolor": "white",
           "linecolor": "white",
           "ticks": "",
           "title": {
            "standoff": 15
           },
           "zerolinecolor": "white",
           "zerolinewidth": 2
          },
          "yaxis": {
           "automargin": true,
           "gridcolor": "white",
           "linecolor": "white",
           "ticks": "",
           "title": {
            "standoff": 15
           },
           "zerolinecolor": "white",
           "zerolinewidth": 2
          }
         }
        },
        "title": {
         "text": "Actual Price and Predictions"
        },
        "xaxis": {
         "title": {
          "text": "Date"
         }
        },
        "yaxis": {
         "title": {
          "text": "Price"
         }
        }
       }
      }
     },
     "metadata": {},
     "output_type": "display_data"
    }
   ],
   "source": [
    "import plotly.graph_objects as go\n",
    "\n",
    "# Create traces\n",
    "trace_actual = go.Scatter(\n",
    "    x=df_combined2.index,\n",
    "    y=df_combined2['Close'],\n",
    "    mode='lines',\n",
    "    name='Historical'\n",
    ")\n",
    "\n",
    "trace_svr = go.Scatter(\n",
    "    x=df_combined2.index,\n",
    "    y=df_combined2['SVR Prediction'],\n",
    "    mode='lines',\n",
    "    name='SVR Prediction'\n",
    ")\n",
    "\n",
    "trace_rfr = go.Scatter(\n",
    "    x=df_combined2.index,\n",
    "    y=df_combined2['RFR Prediction'],\n",
    "    mode='lines',\n",
    "    name='RFR Prediction'\n",
    ")\n",
    "\n",
    "trace_voting = go.Scatter(\n",
    "    x=df_combined2.index,\n",
    "    y=df_combined2['Voting Prediction'],\n",
    "    mode='lines',\n",
    "    name='Voting Prediction'\n",
    ")\n",
    "\n",
    "data = [trace_actual, trace_svr, trace_rfr, trace_voting]\n",
    "\n",
    "# Create layout\n",
    "layout = go.Layout(\n",
    "    title='Actual Price and Predictions',\n",
    "    xaxis=dict(title='Date'),\n",
    "    yaxis=dict(title='Price'),\n",
    "    showlegend=True\n",
    ")\n",
    "\n",
    "# Create figure\n",
    "fig = go.Figure(data=data, layout=layout)\n",
    "\n",
    "# Show the figure\n",
    "fig.show()\n"
   ]
  },
  {
   "cell_type": "code",
   "execution_count": 25,
   "metadata": {},
   "outputs": [],
   "source": [
    "import pickle\n",
    "\n",
    "with open('../dashboard/models/microsoft/rfr.pkl', 'wb') as f:\n",
    "    pickle.dump(rfr_model, f)\n",
    "\n",
    "with open('../dashboard/models/microsoft/svr.pkl', 'wb') as f:\n",
    "    pickle.dump(svr_model, f)\n",
    "\n",
    "with open('../dashboard/models/microsoft/voting.pkl', 'wb') as f:\n",
    "    pickle.dump(voting_model, f)\n",
    "\n",
    "with open('../dashboard/models/microsoft/scaler.pkl', 'wb') as f:\n",
    "    pickle.dump(scaler, f)\n",
    "\n",
    "df.to_csv('../dashboard/models/microsoft/df.csv', index=True)\n",
    "X.to_csv('../dashboard/models/microsoft/X.csv', index=True)"
   ]
  }
 ],
 "metadata": {
  "kernelspec": {
   "display_name": ".venv",
   "language": "python",
   "name": "python3"
  },
  "language_info": {
   "codemirror_mode": {
    "name": "ipython",
    "version": 3
   },
   "file_extension": ".py",
   "mimetype": "text/x-python",
   "name": "python",
   "nbconvert_exporter": "python",
   "pygments_lexer": "ipython3",
   "version": "3.10.11"
  },
  "orig_nbformat": 4
 },
 "nbformat": 4,
 "nbformat_minor": 2
}
